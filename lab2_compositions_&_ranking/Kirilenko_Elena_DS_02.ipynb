{
 "cells": [
  {
   "cell_type": "markdown",
   "metadata": {},
   "source": [
    "# Лабораторная работа 2. Композиции алгоритмов. Ранжирование.\n",
    "\n",
    "Результат лабораторной работы − отчет. Мы предпочитаем принимать отчеты в формате ноутбуков IPython (ipynb-файл). Постарайтесь сделать ваш отчет интересным рассказом, последовательно отвечающим на вопросы из заданий. Помимо ответов на вопросы, в отчете так же должен быть код, однако чем меньше кода, тем лучше всем: нам − меньше проверять, вам — проще найти ошибку или дополнить эксперимент. При проверке оценивается четкость ответов на вопросы, аккуратность отчета и кода.\n",
    "\n",
    "### Оценивание и штрафы\n",
    "Каждая из задач имеет определенную «стоимость» (указана в скобках около задачи). Максимально допустимая оценка за работу — 15 баллов. Сдавать задание после указанного срока сдачи нельзя. «Похожие» решения считаются плагиатом и все задействованные студенты (в том числе те, у кого списали) не могут получить за него больше 0 баллов и понижают карму (подробнее о плагиате см. на странице курса). Если вы нашли решение какого-то из заданий в открытом источнике, необходимо прислать ссылку на этот источник (скорее всего вы будете не единственным, кто это нашел, поэтому чтобы исключить подозрение в плагиате, нам необходима ссылка на источник).\n",
    "\n",
    "### Правила сдачи\n",
    "Выполненную работу следует отправить в систему Anytask. Более подробно о системе можно почитать на странице курса. Название отправляемого файла должно иметь следующий формат: Surname_Name_Group_NN.ipynb, где NN — номер лабораторной работы. Например, Kozlova_Anna_CS_02.ipynb."
   ]
  },
  {
   "cell_type": "markdown",
   "metadata": {},
   "source": [
    "## Bias-Variance decomposition. Композиции алгоритмов\n",
    "\n",
    "![](http://scott.fortmann-roe.com/docs/docs/BiasVariance/biasvariance.png)\n",
    "\n",
    "Рассмотрим задачу регрессии со среднеквадратичной функцией потерь, а также некоторый алгоритм $a$. Тогда качество алгоритма $a$ может быть записано следующим образом:\n",
    "\n",
    "$$Q(a) = \\mathbb{E}_{X^l} \\mathbb{E}_{x,y}(a(x) - y)^2,$$\n",
    "\n",
    "где первое матожидание вычисляется по всевозможным обучающим выборкам $X^l$ размера $l$. К сожалению, на реальных данных эта формула неприменима из-за невозможности сгенерировать необходимые для оценки данные. Поэтому проведем приближенный численный эксперимент с эмпирическими оценками матожиданий.\n",
    "\n",
    "С помощью бутстраппинга можно просемплировать из обучающей выборки $N$ новых выборок того же размера, тем самым \"имитируя\" пространство всевозможных обучающих выборок, после чего обучить на каждой выбранный алгоритм. Обозначим вектор истинных меток тестовой выборки за $y \\in \\mathbb{R}^{m}$. Векторы прогнозов для объектов из тестовой выборки для каждой модели обозначим за $\\hat{y}_i \\in \\mathbb{R}^{m}, i \\in \\{1, .., N\\}$. Тогда средний квадрат ошибки по всем моделям на тестовой выборке запишется как\n",
    "\n",
    "$$error=\\frac{1}{N}\\sum_{i=1}^{N}MSE(y,\\hat{y}_i).$$\n",
    "\n",
    "Обозначим среднее предсказание за $$\\overline{y} = \\frac{1}{N}\\sum_{i=1}^{N} \\hat{y}_i.$$\n",
    "\n",
    "Тогда квадрат отклонения среднего предсказания и разброс прогнозов относительно среднего предсказания всех моделей на тестовой выборке от истинных меток запишутся следующим образом, соответственно:\n",
    "\n",
    "$$bias^2 = MSE(y, \\overline y),$$\n",
    "\n",
    "$$variance = \\frac{1}{N}\\sum_{i=1}^N MSE(\\hat{y}_i, \\overline y).$$\n"
   ]
  },
  {
   "cell_type": "markdown",
   "metadata": {},
   "source": [
    "Для начала рассмотрим в качестве алгоритма решающее дерево. Как известно, при увеличении высоты дерева алгоритм может быть сильно чувствителен к составу обучающей выборки. Чтобы подтвердить эти предположения, проведите следующие эксперименты."
   ]
  },
  {
   "cell_type": "markdown",
   "metadata": {},
   "source": [
    "Загрузите [набор данных](http://archive.ics.uci.edu/ml/datasets/BlogFeedback). Каждый объект — пост в блоге. Он описывается различными признаками: длина текста поста, наличие наиболее частотных слов, день недели, количество комментариев за последние 24 часа и т.п., а так же целевым признаком — количеством комментариев к посту. Полный список признаков и описание находятся на странице датасета. \n",
    "\n",
    "Разбейте данные из файла **blogData_train.csv** на обучающую и тестовую выборки в пропорциях 1 к 4 соответственно. Обратите внимание, что обучающая выборка меньше тестовой. Такая большая тестовая выборка позволит сделать измерение качества моделей достаточно достоверным. "
   ]
  },
  {
   "cell_type": "code",
   "execution_count": 163,
   "metadata": {},
   "outputs": [],
   "source": [
    "import numpy as np\n",
    "import pandas as pd\n",
    "\n",
    "import matplotlib.pyplot as plt\n",
    "from sklearn.cross_validation import train_test_split\n",
    "from tqdm import tqdm\n",
    "%matplotlib inline"
   ]
  },
  {
   "cell_type": "markdown",
   "metadata": {
    "collapsed": true
   },
   "source": [
    "**(1 балл) Задание 1.** Постройте графики зависимости $error$, $bias^2$ и $variance$ от глубины решающего дерева (от 1 до 15 включительно) для $N=100$. "
   ]
  },
  {
   "cell_type": "code",
   "execution_count": 65,
   "metadata": {},
   "outputs": [
    {
     "data": {
      "text/html": [
       "<div>\n",
       "<table border=\"1\" class=\"dataframe\">\n",
       "  <thead>\n",
       "    <tr style=\"text-align: right;\">\n",
       "      <th></th>\n",
       "      <th>0</th>\n",
       "      <th>1</th>\n",
       "      <th>2</th>\n",
       "      <th>3</th>\n",
       "      <th>4</th>\n",
       "      <th>5</th>\n",
       "      <th>6</th>\n",
       "      <th>7</th>\n",
       "      <th>8</th>\n",
       "      <th>9</th>\n",
       "      <th>...</th>\n",
       "      <th>271</th>\n",
       "      <th>272</th>\n",
       "      <th>273</th>\n",
       "      <th>274</th>\n",
       "      <th>275</th>\n",
       "      <th>276</th>\n",
       "      <th>277</th>\n",
       "      <th>278</th>\n",
       "      <th>279</th>\n",
       "      <th>280</th>\n",
       "    </tr>\n",
       "  </thead>\n",
       "  <tbody>\n",
       "    <tr>\n",
       "      <th>0</th>\n",
       "      <td>40.30467</td>\n",
       "      <td>53.845657</td>\n",
       "      <td>0.0</td>\n",
       "      <td>401.0</td>\n",
       "      <td>15.0</td>\n",
       "      <td>15.52416</td>\n",
       "      <td>32.44188</td>\n",
       "      <td>0.0</td>\n",
       "      <td>377.0</td>\n",
       "      <td>3.0</td>\n",
       "      <td>...</td>\n",
       "      <td>0.0</td>\n",
       "      <td>1.0</td>\n",
       "      <td>0.0</td>\n",
       "      <td>0.0</td>\n",
       "      <td>0.0</td>\n",
       "      <td>0.0</td>\n",
       "      <td>0.0</td>\n",
       "      <td>0.0</td>\n",
       "      <td>0.0</td>\n",
       "      <td>1.0</td>\n",
       "    </tr>\n",
       "    <tr>\n",
       "      <th>1</th>\n",
       "      <td>40.30467</td>\n",
       "      <td>53.845657</td>\n",
       "      <td>0.0</td>\n",
       "      <td>401.0</td>\n",
       "      <td>15.0</td>\n",
       "      <td>15.52416</td>\n",
       "      <td>32.44188</td>\n",
       "      <td>0.0</td>\n",
       "      <td>377.0</td>\n",
       "      <td>3.0</td>\n",
       "      <td>...</td>\n",
       "      <td>1.0</td>\n",
       "      <td>0.0</td>\n",
       "      <td>0.0</td>\n",
       "      <td>0.0</td>\n",
       "      <td>0.0</td>\n",
       "      <td>0.0</td>\n",
       "      <td>0.0</td>\n",
       "      <td>0.0</td>\n",
       "      <td>0.0</td>\n",
       "      <td>0.0</td>\n",
       "    </tr>\n",
       "    <tr>\n",
       "      <th>2</th>\n",
       "      <td>40.30467</td>\n",
       "      <td>53.845657</td>\n",
       "      <td>0.0</td>\n",
       "      <td>401.0</td>\n",
       "      <td>15.0</td>\n",
       "      <td>15.52416</td>\n",
       "      <td>32.44188</td>\n",
       "      <td>0.0</td>\n",
       "      <td>377.0</td>\n",
       "      <td>3.0</td>\n",
       "      <td>...</td>\n",
       "      <td>1.0</td>\n",
       "      <td>0.0</td>\n",
       "      <td>0.0</td>\n",
       "      <td>0.0</td>\n",
       "      <td>0.0</td>\n",
       "      <td>0.0</td>\n",
       "      <td>0.0</td>\n",
       "      <td>0.0</td>\n",
       "      <td>0.0</td>\n",
       "      <td>0.0</td>\n",
       "    </tr>\n",
       "    <tr>\n",
       "      <th>3</th>\n",
       "      <td>40.30467</td>\n",
       "      <td>53.845657</td>\n",
       "      <td>0.0</td>\n",
       "      <td>401.0</td>\n",
       "      <td>15.0</td>\n",
       "      <td>15.52416</td>\n",
       "      <td>32.44188</td>\n",
       "      <td>0.0</td>\n",
       "      <td>377.0</td>\n",
       "      <td>3.0</td>\n",
       "      <td>...</td>\n",
       "      <td>0.0</td>\n",
       "      <td>1.0</td>\n",
       "      <td>0.0</td>\n",
       "      <td>0.0</td>\n",
       "      <td>0.0</td>\n",
       "      <td>0.0</td>\n",
       "      <td>0.0</td>\n",
       "      <td>0.0</td>\n",
       "      <td>0.0</td>\n",
       "      <td>1.0</td>\n",
       "    </tr>\n",
       "    <tr>\n",
       "      <th>4</th>\n",
       "      <td>40.30467</td>\n",
       "      <td>53.845657</td>\n",
       "      <td>0.0</td>\n",
       "      <td>401.0</td>\n",
       "      <td>15.0</td>\n",
       "      <td>15.52416</td>\n",
       "      <td>32.44188</td>\n",
       "      <td>0.0</td>\n",
       "      <td>377.0</td>\n",
       "      <td>3.0</td>\n",
       "      <td>...</td>\n",
       "      <td>0.0</td>\n",
       "      <td>1.0</td>\n",
       "      <td>0.0</td>\n",
       "      <td>0.0</td>\n",
       "      <td>0.0</td>\n",
       "      <td>0.0</td>\n",
       "      <td>0.0</td>\n",
       "      <td>0.0</td>\n",
       "      <td>0.0</td>\n",
       "      <td>27.0</td>\n",
       "    </tr>\n",
       "  </tbody>\n",
       "</table>\n",
       "<p>5 rows × 281 columns</p>\n",
       "</div>"
      ],
      "text/plain": [
       "        0          1    2      3     4         5         6    7      8    9    \\\n",
       "0  40.30467  53.845657  0.0  401.0  15.0  15.52416  32.44188  0.0  377.0  3.0   \n",
       "1  40.30467  53.845657  0.0  401.0  15.0  15.52416  32.44188  0.0  377.0  3.0   \n",
       "2  40.30467  53.845657  0.0  401.0  15.0  15.52416  32.44188  0.0  377.0  3.0   \n",
       "3  40.30467  53.845657  0.0  401.0  15.0  15.52416  32.44188  0.0  377.0  3.0   \n",
       "4  40.30467  53.845657  0.0  401.0  15.0  15.52416  32.44188  0.0  377.0  3.0   \n",
       "\n",
       "   ...   271  272  273  274  275  276  277  278  279   280  \n",
       "0  ...   0.0  1.0  0.0  0.0  0.0  0.0  0.0  0.0  0.0   1.0  \n",
       "1  ...   1.0  0.0  0.0  0.0  0.0  0.0  0.0  0.0  0.0   0.0  \n",
       "2  ...   1.0  0.0  0.0  0.0  0.0  0.0  0.0  0.0  0.0   0.0  \n",
       "3  ...   0.0  1.0  0.0  0.0  0.0  0.0  0.0  0.0  0.0   1.0  \n",
       "4  ...   0.0  1.0  0.0  0.0  0.0  0.0  0.0  0.0  0.0  27.0  \n",
       "\n",
       "[5 rows x 281 columns]"
      ]
     },
     "execution_count": 65,
     "metadata": {},
     "output_type": "execute_result"
    }
   ],
   "source": [
    "blog_data = pd.read_csv('BlogFeedback/blogData_train.csv', header=None)\n",
    "blog_data.head()"
   ]
  },
  {
   "cell_type": "markdown",
   "metadata": {},
   "source": [
    "Делим данные на обучение и тест."
   ]
  },
  {
   "cell_type": "code",
   "execution_count": 66,
   "metadata": {
    "collapsed": true
   },
   "outputs": [],
   "source": [
    "blog_data.fillna(0, inplace=True)\n",
    "data = np.array(blog_data.iloc[:, :-1])\n",
    "target = np.array(blog_data.iloc[:,-1])"
   ]
  },
  {
   "cell_type": "code",
   "execution_count": 68,
   "metadata": {
    "collapsed": true
   },
   "outputs": [],
   "source": [
    "train_data, test_data, train_target, test_target = train_test_split(data, target, test_size = 4 / 5)"
   ]
  },
  {
   "cell_type": "markdown",
   "metadata": {},
   "source": [
    "Для каждой глубины дерева находим $bias^2$, $variance$ и $error$"
   ]
  },
  {
   "cell_type": "code",
   "execution_count": 75,
   "metadata": {},
   "outputs": [],
   "source": [
    "from sklearn.tree import DecisionTreeRegressor\n",
    "predictions = []\n",
    "biases = []\n",
    "variances = []\n",
    "errors = []\n",
    "count = 100\n",
    "indeces_range = np.arange(len(train_data))\n",
    "depths = np.arange(1, 16)\n",
    "\n",
    "for depth in depths:\n",
    "    errors_depth = []\n",
    "    predictions = []\n",
    "    for i in range(count):\n",
    "        new_indeces = np.random.choice(indeces_range, len(train_data))\n",
    "        new_train_data = train_data[new_indeces]\n",
    "        new_train_target = train_target[new_indeces]\n",
    "        model = DecisionTreeRegressor(max_depth=depth)\n",
    "        model.fit(new_train_data, new_train_target)\n",
    "        pred = model.predict(test_data)\n",
    "        predictions.append(pred)\n",
    "        errors_depth.append(np.mean((test_target - pred) ** 2))\n",
    "    predictions = np.array(predictions)\n",
    "    y_mean = predictions.mean(axis=0)\n",
    "    biases.append(np.mean((test_target - y_mean) ** 2))\n",
    "    variances.append(np.mean(np.mean((predictions - y_mean) ** 2, axis=-1)))\n",
    "    errors.append(np.mean(errors_depth))\n",
    "\n"
   ]
  },
  {
   "cell_type": "code",
   "execution_count": 76,
   "metadata": {},
   "outputs": [
    {
     "data": {
      "image/png": "[encoded data removed]",
      "text/plain": [
       "<matplotlib.figure.Figure at 0x1a2c7ae390>"
      ]
     },
     "metadata": {},
     "output_type": "display_data"
    }
   ],
   "source": [
    "plt.figure(figsize=(15,7))\n",
    "plt.plot(depths, errors, label='error')\n",
    "plt.plot(depths, biases, label='bias^2')\n",
    "plt.plot(depths, variances, label='variance')\n",
    "plt.xlabel('depth')\n",
    "plt.ylabel('value')\n",
    "plt.title('Bias-varinance tradeoff for decision tree')\n",
    "plt.legend()\n",
    "plt.grid(ls=':')\n",
    "plt.show()"
   ]
  },
  {
   "cell_type": "markdown",
   "metadata": {},
   "source": [
    "**(0.5 балла) Задание 2.** Являются ли какие-то из полученных графиков монотонными? А должны ли они быть монотонными, если бы гипотетически эксперименты были проведены на всевозможных выборках? Почему? Убедитесь численно, что верно bias-variance разложение ошибки: $$error = bias^2 + variance$$"
   ]
  },
  {
   "cell_type": "markdown",
   "metadata": {},
   "source": [
    "График $bias^2$ с ростом сложности алгоритма (глубины дерева) уменьшается, как и должно быть, так при использовании сложных моделей мы получаем в среднем более хорошее предсказание. График variance увеличивается с ростом глубины. Это тоже нормально, так как при использовании сложных моделей мы все больше подстраиваемся под обучающую выборку и получаем большой разьрос на тесте. Также можно заметить, что ошибка начинает увеличиваться, начиная с 2. То есть получаем, что в дереве нам не выгодно брать большую глубину, так как это приводит к переобучению, что мы и так знали.\n",
    "\n",
    "Убедимся в верности bias-varianve разложения."
   ]
  },
  {
   "cell_type": "code",
   "execution_count": 85,
   "metadata": {},
   "outputs": [
    {
     "name": "stdout",
     "output_type": "stream",
     "text": [
      "error = bias2+variance : True\n"
     ]
    }
   ],
   "source": [
    "epsilon = 0.1\n",
    "print('error = bias2+variance : {}'.format((np.abs(np.array(biases) + np.array(variances) - errors) < epsilon).all()))"
   ]
  },
  {
   "cell_type": "markdown",
   "metadata": {
    "collapsed": true
   },
   "source": [
    "## Композиции алгоритмов\n",
    "\n",
    "Несмотря на описанный выше недостаток решающих деревьев, объединение их в композиции позволяет существенно улучшить качество предсказания. Рассмотрим несколько способов построения композиций.\n",
    "\n",
    "### Bagging + RSM\n",
    "\n",
    "![](https://sites.google.com/site/rajhansgondane2506/_/rsrc/1467898300734/publications/rrftrain.jpg?height=215&width=320)\n",
    "\n",
    "Один из способов объединения алгоритмов в композиции — обучение каждого отдельного алгоритма на некоторой подвыборке из исходной выборки ([bagging](https://en.wikipedia.org/wiki/Bootstrap_aggregating)) и подмножестве исходных признаков ([RSM](https://en.wikipedia.org/wiki/Random_subspace_method)). В sklearn этот тип композиции реализован в классе [BaggingRegressor](http://scikit-learn.org/stable/modules/generated/sklearn.ensemble.BaggingRegressor.html) (для случая регресии). Подобный подход также есть в реализации [RandomForest](http://scikit-learn.org/stable/modules/generated/sklearn.ensemble.RandomForestRegressor.html)."
   ]
  },
  {
   "cell_type": "markdown",
   "metadata": {},
   "source": [
    "### Градиентный бустинг\n",
    "\n",
    "В случае бустинга композиция алгоритмов строится последовательно. Каждый следующий базовый алгоритм акцентируется на тех объектах, на которых обученная ранее композиция допускала ошибку.\n",
    "\n",
    "На данный момент одной из самых широко распространенных реализаций бустинга является библиотека [XGBoost](https://github.com/dmlc/xgboost). В ней большое внимание уделяется регуляризации и скорости, нежели в других реализациях бустинга (например,  [GradientBoostingRegressor](http://scikit-learn.org/stable/modules/generated/sklearn.ensemble.GradientBoostingRegressor.html) из sklearn). Кроме того, XGBoost позволяет оптимизировать различные функции потерь, а также более гибок, засчет большого числа параметров."
   ]
  },
  {
   "cell_type": "markdown",
   "metadata": {},
   "source": [
    "XGBoost строит композицию из $K$ базовых алгоритмов $b_k$:\n",
    "\n",
    "$$ \\hat{y}_i = \\hat{y}_i^{K} = \\sum_{k=1}^{K} b_k(x_i) = \\hat{y}_i^{\\left(K - 1\\right)} + b_K(x_i), $$\n",
    "\n",
    "минимизируя следующий функционал:\n",
    "\n",
    "$$ Obj = \\sum_{i=1}^N \\mathcal{L}(y_i, \\hat{y}_i ) + \\sum_{k=1}^{K} \\Omega(b_k),$$\n",
    "\n",
    "где\n",
    " - $N$ — размер обучающей выборки;\n",
    " - $x_i, y_i, \\hat{y}_i$ — i-ый объект, правильный ответ и предсказание модели для него;\n",
    " - $\\hat{y}_i^{t}$ — предсказание композиции из $t$ уже обученных базовых алгоритмов для i-го объекта;\n",
    " - $\\Omega$ — регуляризатор;\n",
    " - $\\mathcal{L}(y_i, \\hat{y}_i)$ — функция потерь.\n",
    "\n",
    "Функционал, оптимизируемый на $t$-ой итерации:\n",
    "\n",
    "$$ Obj^{(t)} = \\sum_{i=1}^N \\mathcal{L}\\left(y_i, \\hat{y}_i^{(t-1)} + b_t(x_i)\\right) + \\Omega(b_t).$$"
   ]
  },
  {
   "cell_type": "markdown",
   "metadata": {},
   "source": [
    "В XGBoost реализовано несколько различных функций потерь, что позволяет решать задачи классификации (бинарной и мультиклассовой), регрессии и ранжирования. Вот некоторые из них:\n",
    "\n",
    "- reg:linear — линейная регрессия\n",
    "- reg:logistic — логистическая регрессия\n",
    "- binary:logistic — логистическая регрессия\n",
    "- multi:softmax — softmax функция потерь для многоклассовой классификации\n",
    "- rank:pairwise — минимизация pairwise-функции потерь для задачи ранжирования"
   ]
  },
  {
   "cell_type": "markdown",
   "metadata": {},
   "source": [
    "**(1 балл) Задание 3.** Проведите аналогичный эксперимент с bias-variance разложением для градиентного бустинга для количество алгоритмов 1, 5, 10, 25 и 50, используя в качестве базовых алгоритмов решающие деревья. Обратите внимание, что данная библиотека имеет два интерфейса (стандартный и аналог sklearn), названия параметров в которых могут отличаться."
   ]
  },
  {
   "cell_type": "code",
   "execution_count": 89,
   "metadata": {
    "collapsed": true
   },
   "outputs": [],
   "source": [
    "import xgboost\n",
    "predictions = []\n",
    "biases = []\n",
    "variances = []\n",
    "errors = []\n",
    "count = 100\n",
    "indeces_range = np.arange(len(train_data))\n",
    "count_algs = [1, 5, 10, 25, 50]\n",
    "\n",
    "for algs in count_algs:\n",
    "    errors_depth = []\n",
    "    predictions = []\n",
    "    for i in range(count):\n",
    "        new_indeces = np.random.choice(indeces_range, len(train_data))\n",
    "        new_train_data = train_data[new_indeces]\n",
    "        new_train_target = train_target[new_indeces]\n",
    "        model = xgboost.XGBRegressor(n_estimators=algs)\n",
    "        model.fit(new_train_data, new_train_target)\n",
    "        pred = model.predict(test_data)\n",
    "        predictions.append(pred)\n",
    "        errors_depth.append(np.mean((test_target - pred) ** 2))\n",
    "    predictions = np.array(predictions)\n",
    "    y_mean = predictions.mean(axis=0)\n",
    "    biases.append(np.mean((test_target - y_mean) ** 2))\n",
    "    variances.append(np.mean(np.mean((predictions - y_mean) ** 2, axis=-1)))\n",
    "    errors.append(np.mean(errors_depth))\n"
   ]
  },
  {
   "cell_type": "code",
   "execution_count": 91,
   "metadata": {},
   "outputs": [
    {
     "data": {
      "image/png": "[encoded data removed]",
      "text/plain": [
       "<matplotlib.figure.Figure at 0x1a1a9564a8>"
      ]
     },
     "metadata": {},
     "output_type": "display_data"
    }
   ],
   "source": [
    "plt.figure(figsize=(15,7))\n",
    "plt.plot(count_algs, errors, label='error')\n",
    "plt.plot(count_algs, biases, label='bias^2')\n",
    "plt.plot(count_algs, variances, label='variance')\n",
    "plt.xlabel('count estimators')\n",
    "plt.ylabel('value')\n",
    "plt.title('Bias-varinance tradeoff for gradient boosting')\n",
    "plt.legend()\n",
    "plt.grid(ls=':')\n",
    "plt.show()"
   ]
  },
  {
   "cell_type": "markdown",
   "metadata": {},
   "source": [
    "**(0.5 балла) Задание 4.** Отличаются ли графики в рассмотренных моделях (решающее дерево, градиентный бустинг на решающих деревьях)  между собой? На какую компоненту из разложения ошибки влияет объединение алгоритмов в рассмотренный тип композиции? Поясните свой ответ."
   ]
  },
  {
   "cell_type": "markdown",
   "metadata": {},
   "source": [
    "Здесь, как и на предыдущем графике, $bias^2$ уменьшается с ростом сложности модели (кол-ва базовых алгоритмов), а variance увеличается. В отличие от предыдущего графика здесь ошибка уменьшается сростом сложности. Этот факт говорит нам о том, что в бустинге нам выгодно брать много базовых алгоритмов."
   ]
  },
  {
   "cell_type": "code",
   "execution_count": 92,
   "metadata": {},
   "outputs": [
    {
     "name": "stdout",
     "output_type": "stream",
     "text": [
      "error = bias2+variance : True\n"
     ]
    }
   ],
   "source": [
    "epsilon = 0.1\n",
    "print('error = bias2+variance : {}'.format((np.abs(np.array(biases) + np.array(variances) - errors) < epsilon).all()))"
   ]
  },
  {
   "cell_type": "markdown",
   "metadata": {},
   "source": [
    "### Стекинг\n",
    "![](https://4.bp.blogspot.com/-hCxAb57kzDQ/VuMgHy3hAhI/AAAAAAAAAVk/djmL9IHv5QkLWeudjE50qDoCTbiUrTetA/s1600/Stacking.jpg)\n",
    "\n",
    "[Stacking](https://en.wikipedia.org/wiki/Ensemble_learning#Stacking) — еще один способ объединить несколько алгоритмов в один, который часто используется как в решении реальных задач из промышленной сферы, так и в конкурсах на платформах вроде Kaggle. Подход использует понятие *базовых классификаторов*, каждый из которых независимо обучается на некотором (возможно одном и том же) множестве признаков, а также *мета-классификатора*, использующего предсказания базовых классификаторов как факторы. \n",
    "\n",
    "Загрузите [датасет](https://archive.ics.uci.edu/ml/datasets/covertype). В тренировочных целях предлагается вместо задачи мультиклассификации решать задачу обычной бинарной классификации — научиться отличать **Spruce-Fir** (значение целевой переменной — 1) от **Lodgepole Pine** (значение целевой переменной — 2). Разделите выборку на обучение и тест в соотношении 50/50. В качестве метрики используйте [accuracy_score](http://scikit-learn.org/stable/modules/generated/sklearn.metrics.accuracy_score.html)."
   ]
  },
  {
   "cell_type": "markdown",
   "metadata": {},
   "source": [
    "**(1 балл) Задание 5.** Использование мета-классификатора подразумевает получение предсказаний от базовых классификаторов для тех объектов обучающей выборки, на которых мета-классификатор будет обучаться. В свою очередь базовые классификаторы тоже должны быть обучены на некоторой выборке. Чтобы избежать переобучения, обучающее множество делится на $n$ фолдов, $(n-1)$ из которых используются для обучения базовых классификаторов, а $n$-ый — для предсказания (вычисления мета-фактора).\n",
    "\n",
    "Для получения мета-факторов для тестовых данных базовые классификаторы могут быть обучены на всем обучающем множестве, поскольку проблема переобучения здесь не возникает. Другими словами, если мы хотим посчитать факторы для тестового множества, мы можем спокойно использовать обучающее множество для тренировки базовых классификаторов. Если же мы хотим посчитать факторы для обучающего множества, то необходимо следить, чтобы классификатор не предсказывал для тех объектов, на которых обучался.\n",
    "\n",
    "Мета-классификатор может быть обучен как на множестве исходных факторов, дополненным мета-факторами, так и исключительно на множестве мета-факторов. Выбор зависит от решаемой задачи.\n",
    "\n",
    "Напишите функцию, которая получает на вход классификатор, обучающую и тестовые выборки, а также параметры [кросс-валидатора](http://scikit-learn.org/stable/modules/generated/sklearn.model_selection.KFold.html) и возвращающую значения мета-фактора для обучающего и тестового множеств"
   ]
  },
  {
   "cell_type": "code",
   "execution_count": 98,
   "metadata": {},
   "outputs": [
    {
     "data": {
      "text/html": [
       "<div>\n",
       "<table border=\"1\" class=\"dataframe\">\n",
       "  <thead>\n",
       "    <tr style=\"text-align: right;\">\n",
       "      <th></th>\n",
       "      <th>0</th>\n",
       "      <th>1</th>\n",
       "      <th>2</th>\n",
       "      <th>3</th>\n",
       "      <th>4</th>\n",
       "      <th>5</th>\n",
       "      <th>6</th>\n",
       "      <th>7</th>\n",
       "      <th>8</th>\n",
       "      <th>9</th>\n",
       "      <th>...</th>\n",
       "      <th>45</th>\n",
       "      <th>46</th>\n",
       "      <th>47</th>\n",
       "      <th>48</th>\n",
       "      <th>49</th>\n",
       "      <th>50</th>\n",
       "      <th>51</th>\n",
       "      <th>52</th>\n",
       "      <th>53</th>\n",
       "      <th>54</th>\n",
       "    </tr>\n",
       "  </thead>\n",
       "  <tbody>\n",
       "    <tr>\n",
       "      <th>0</th>\n",
       "      <td>2596</td>\n",
       "      <td>51</td>\n",
       "      <td>3</td>\n",
       "      <td>258</td>\n",
       "      <td>0</td>\n",
       "      <td>510</td>\n",
       "      <td>221</td>\n",
       "      <td>232</td>\n",
       "      <td>148</td>\n",
       "      <td>6279</td>\n",
       "      <td>...</td>\n",
       "      <td>0</td>\n",
       "      <td>0</td>\n",
       "      <td>0</td>\n",
       "      <td>0</td>\n",
       "      <td>0</td>\n",
       "      <td>0</td>\n",
       "      <td>0</td>\n",
       "      <td>0</td>\n",
       "      <td>0</td>\n",
       "      <td>5</td>\n",
       "    </tr>\n",
       "    <tr>\n",
       "      <th>1</th>\n",
       "      <td>2590</td>\n",
       "      <td>56</td>\n",
       "      <td>2</td>\n",
       "      <td>212</td>\n",
       "      <td>-6</td>\n",
       "      <td>390</td>\n",
       "      <td>220</td>\n",
       "      <td>235</td>\n",
       "      <td>151</td>\n",
       "      <td>6225</td>\n",
       "      <td>...</td>\n",
       "      <td>0</td>\n",
       "      <td>0</td>\n",
       "      <td>0</td>\n",
       "      <td>0</td>\n",
       "      <td>0</td>\n",
       "      <td>0</td>\n",
       "      <td>0</td>\n",
       "      <td>0</td>\n",
       "      <td>0</td>\n",
       "      <td>5</td>\n",
       "    </tr>\n",
       "    <tr>\n",
       "      <th>2</th>\n",
       "      <td>2804</td>\n",
       "      <td>139</td>\n",
       "      <td>9</td>\n",
       "      <td>268</td>\n",
       "      <td>65</td>\n",
       "      <td>3180</td>\n",
       "      <td>234</td>\n",
       "      <td>238</td>\n",
       "      <td>135</td>\n",
       "      <td>6121</td>\n",
       "      <td>...</td>\n",
       "      <td>0</td>\n",
       "      <td>0</td>\n",
       "      <td>0</td>\n",
       "      <td>0</td>\n",
       "      <td>0</td>\n",
       "      <td>0</td>\n",
       "      <td>0</td>\n",
       "      <td>0</td>\n",
       "      <td>0</td>\n",
       "      <td>2</td>\n",
       "    </tr>\n",
       "    <tr>\n",
       "      <th>3</th>\n",
       "      <td>2785</td>\n",
       "      <td>155</td>\n",
       "      <td>18</td>\n",
       "      <td>242</td>\n",
       "      <td>118</td>\n",
       "      <td>3090</td>\n",
       "      <td>238</td>\n",
       "      <td>238</td>\n",
       "      <td>122</td>\n",
       "      <td>6211</td>\n",
       "      <td>...</td>\n",
       "      <td>0</td>\n",
       "      <td>0</td>\n",
       "      <td>0</td>\n",
       "      <td>0</td>\n",
       "      <td>0</td>\n",
       "      <td>0</td>\n",
       "      <td>0</td>\n",
       "      <td>0</td>\n",
       "      <td>0</td>\n",
       "      <td>2</td>\n",
       "    </tr>\n",
       "    <tr>\n",
       "      <th>4</th>\n",
       "      <td>2595</td>\n",
       "      <td>45</td>\n",
       "      <td>2</td>\n",
       "      <td>153</td>\n",
       "      <td>-1</td>\n",
       "      <td>391</td>\n",
       "      <td>220</td>\n",
       "      <td>234</td>\n",
       "      <td>150</td>\n",
       "      <td>6172</td>\n",
       "      <td>...</td>\n",
       "      <td>0</td>\n",
       "      <td>0</td>\n",
       "      <td>0</td>\n",
       "      <td>0</td>\n",
       "      <td>0</td>\n",
       "      <td>0</td>\n",
       "      <td>0</td>\n",
       "      <td>0</td>\n",
       "      <td>0</td>\n",
       "      <td>5</td>\n",
       "    </tr>\n",
       "  </tbody>\n",
       "</table>\n",
       "<p>5 rows × 55 columns</p>\n",
       "</div>"
      ],
      "text/plain": [
       "     0    1   2    3    4     5    6    7    8     9  ...  45  46  47  48  49  \\\n",
       "0  2596   51   3  258    0   510  221  232  148  6279 ...   0   0   0   0   0   \n",
       "1  2590   56   2  212   -6   390  220  235  151  6225 ...   0   0   0   0   0   \n",
       "2  2804  139   9  268   65  3180  234  238  135  6121 ...   0   0   0   0   0   \n",
       "3  2785  155  18  242  118  3090  238  238  122  6211 ...   0   0   0   0   0   \n",
       "4  2595   45   2  153   -1   391  220  234  150  6172 ...   0   0   0   0   0   \n",
       "\n",
       "   50  51  52  53  54  \n",
       "0   0   0   0   0   5  \n",
       "1   0   0   0   0   5  \n",
       "2   0   0   0   0   2  \n",
       "3   0   0   0   0   2  \n",
       "4   0   0   0   0   5  \n",
       "\n",
       "[5 rows x 55 columns]"
      ]
     },
     "execution_count": 98,
     "metadata": {},
     "output_type": "execute_result"
    }
   ],
   "source": [
    "data_forest = pd.read_csv('covtype.data', header=None)\n",
    "data_forest.head()"
   ]
  },
  {
   "cell_type": "code",
   "execution_count": 100,
   "metadata": {},
   "outputs": [],
   "source": [
    "data = np.array(data_forest.iloc[:,:-1])\n",
    "target = np.array(data_forest.iloc[:,-1])"
   ]
  },
  {
   "cell_type": "markdown",
   "metadata": {},
   "source": [
    "Уберем все строки со значением целевой переменной не 1 или 2 и разделим полученное на обучение и тест."
   ]
  },
  {
   "cell_type": "code",
   "execution_count": 105,
   "metadata": {},
   "outputs": [],
   "source": [
    "small_data = data[(target == 1) + (target == 2)]\n",
    "small_target = target[(target == 1) + (target == 2)]\n",
    "\n",
    "train_data, test_data, train_target, test_target = train_test_split(small_data, small_target, test_size=0.5)"
   ]
  },
  {
   "cell_type": "code",
   "execution_count": 192,
   "metadata": {},
   "outputs": [
    {
     "data": {
      "text/plain": [
       "DecisionTreeClassifier(class_weight=None, criterion='gini', max_depth=None,\n",
       "            max_features=None, max_leaf_nodes=None,\n",
       "            min_impurity_decrease=0.0, min_impurity_split=None,\n",
       "            min_samples_leaf=1, min_samples_split=2,\n",
       "            min_weight_fraction_leaf=0.0, presort=False, random_state=None,\n",
       "            splitter='best')"
      ]
     },
     "execution_count": 192,
     "metadata": {},
     "output_type": "execute_result"
    }
   ],
   "source": [
    "DecisionTreeClassifier(*[], **{})"
   ]
  },
  {
   "cell_type": "markdown",
   "metadata": {},
   "source": [
    "Функция для обучения классификатора: предсказываем мета-факторы для каждого фолда отдельно, обучая на всем без этого фолда. Также предсказываем все тестовые мета-факторы, обучаясь на всем трейне."
   ]
  },
  {
   "cell_type": "code",
   "execution_count": 196,
   "metadata": {
    "collapsed": true
   },
   "outputs": [],
   "source": [
    "from sklearn.model_selection import KFold\n",
    "\n",
    "def compute_meta_feature(clf, X_train, X_test, y_train, cv, *args, **kwargs):\n",
    "    splitting = cv.split(X_train)\n",
    "    meta_features_train = []\n",
    "    for train_index, test_index in splitting:\n",
    "        base_clf = clf(*args, **kwargs)\n",
    "        base_clf.fit(X_train[train_index], y_train[train_index])\n",
    "        if len(meta_features_train) == 0:\n",
    "            meta_features_train = base_clf.predict_proba(X_train[test_index])\n",
    "            meta_y_train =  y_train[test_index]\n",
    "        else:\n",
    "            meta_features_train = np.vstack((meta_features_train, base_clf.predict_proba(X_train[test_index])))\n",
    "            meta_y_train = np.hstack((meta_y_train, y_train[test_index]))\n",
    "    base_clf = clf(*args, **kwargs)\n",
    "    base_clf.fit(X_train, y_train)\n",
    "    meta_features_test = base_clf.predict_proba(X_test)\n",
    "    return meta_features_train, meta_y_train , meta_features_test\n",
    "    "
   ]
  },
  {
   "cell_type": "markdown",
   "metadata": {},
   "source": [
    "Поэкспериментируйте со стекингом, ответьте на вопросы и обоснуйте наблюдения:\n",
    "  - **(1 балл) Задание 6.** Обучите различные известные вам модели машинного обучения и сделайте из них стекинг-композицию. \n",
    "  \n",
    "  Базовые алгоритмы могут отличаться друг от друга:\n",
    "    - моделью машинного обучения,\n",
    "    - гиперпараметрами (например, различные функции потерь или глубины деревьев),\n",
    "    - набором факторов,\n",
    "    - типом модели: для данной задачи можно использовать как классификаторы, так и регрессоры.\n",
    "  \n",
    "  Обратите внимание, что бинарные мета-факторы дают меньше полезного сигнала мета-классификатору, чем числовые, поэтому базовым классификаторам лучше возвращать вероятность/числовую функцию, чем метки классов."
   ]
  },
  {
   "cell_type": "markdown",
   "metadata": {},
   "source": [
    "Сначала напишем для себя безлайн, чтобы было с чем сравнивать"
   ]
  },
  {
   "cell_type": "code",
   "execution_count": 200,
   "metadata": {},
   "outputs": [
    {
     "data": {
      "text/plain": [
       "0.796401840280162"
      ]
     },
     "execution_count": 200,
     "metadata": {},
     "output_type": "execute_result"
    }
   ],
   "source": [
    "clf = xgboost.XGBClassifier()\n",
    "clf.fit(train_data, train_target)\n",
    "accuracy_score(test_target, clf.predict(test_data))"
   ]
  },
  {
   "cell_type": "code",
   "execution_count": 194,
   "metadata": {
    "collapsed": true
   },
   "outputs": [],
   "source": [
    "import warnings\n",
    "warnings.filterwarnings(\"ignore\")"
   ]
  },
  {
   "cell_type": "markdown",
   "metadata": {},
   "source": [
    "Теперь попробуем рассмотреть 6 базовых алгоритмов : Решающее дерево, логистическая регрессия, решающее дерево с заданной максимальной глубиной 10, градиентные бустинги из xgboost с кол-вами базовых алгоритмов 5 и 15 и Random forest из 10ти деревьев. Также рассмотрим разное кол-во фолдов и множество различных мета-классификаторов"
   ]
  },
  {
   "cell_type": "code",
   "execution_count": 197,
   "metadata": {},
   "outputs": [
    {
     "name": "stdout",
     "output_type": "stream",
     "text": [
      "LogisticRegression, count splits = 3,  accuracy = 0.9554107710515367\n",
      "DecisionTreeClassifier, count splits = 3,  accuracy = 0.9203056900848645\n",
      "XGBClassifier with 5 estimators, count splits = 3,  accuracy = 0.9544171167059147\n",
      "XGBClassifier with 10 estimators, count splits = 3,  accuracy = 0.9544171167059147\n",
      "XGBClassifier with 20 estimators, count splits = 3,  accuracy = 0.9552572797298553\n",
      "XGBClassifier with 40 estimators, count splits = 3,  accuracy = 0.9555440661466812\n",
      "RandomForestClassifier with 10 estimators, count splits = 3,  accuracy = 0.9493438245998118\n",
      "RandomForestClassifier with 40 estimators, count splits = 3,  accuracy = 0.9529266351874816\n",
      "LinearSVC, count splits = 3,  accuracy = 0.9559560691680367\n",
      "LogisticRegression, count splits = 4,  accuracy = 0.9559924223758033\n",
      "DecisionTreeClassifier, count splits = 4,  accuracy = 0.9173449232745354\n",
      "XGBClassifier with 5 estimators, count splits = 4,  accuracy = 0.954469626894911\n",
      "XGBClassifier with 10 estimators, count splits = 4,  accuracy = 0.954469626894911\n",
      "XGBClassifier with 20 estimators, count splits = 4,  accuracy = 0.9553461431266183\n",
      "XGBClassifier with 40 estimators, count splits = 4,  accuracy = 0.9558591272806589\n",
      "RandomForestClassifier with 10 estimators, count splits = 4,  accuracy = 0.9500668495098376\n",
      "RandomForestClassifier with 40 estimators, count splits = 4,  accuracy = 0.952910478206252\n",
      "LinearSVC, count splits = 4,  accuracy = 0.955960108413344\n",
      "LogisticRegression, count splits = 5,  accuracy = 0.9559479906774219\n",
      "DecisionTreeClassifier, count splits = 5,  accuracy = 0.9261827920071414\n",
      "XGBClassifier with 5 estimators, count splits = 5,  accuracy = 0.9544736661402183\n",
      "XGBClassifier with 10 estimators, count splits = 5,  accuracy = 0.9544736661402183\n",
      "XGBClassifier with 20 estimators, count splits = 5,  accuracy = 0.9553259469000812\n",
      "XGBClassifier with 40 estimators, count splits = 5,  accuracy = 0.9553582608625405\n",
      "RandomForestClassifier with 10 estimators, count splits = 5,  accuracy = 0.9511210925350707\n",
      "RandomForestClassifier with 40 estimators, count splits = 5,  accuracy = 0.9534759725492888\n",
      "LinearSVC, count splits = 5,  accuracy = 0.9559722261492662\n",
      "LogisticRegression, count splits = 6,  accuracy = 0.9545180978385999\n",
      "DecisionTreeClassifier, count splits = 6,  accuracy = 0.923448222934027\n",
      "XGBClassifier with 5 estimators, count splits = 6,  accuracy = 0.9532538140573815\n",
      "XGBClassifier with 10 estimators, count splits = 6,  accuracy = 0.9532538140573815\n",
      "XGBClassifier with 20 estimators, count splits = 6,  accuracy = 0.9539970351939444\n",
      "XGBClassifier with 40 estimators, count splits = 6,  accuracy = 0.954469626894911\n",
      "RandomForestClassifier with 10 estimators, count splits = 6,  accuracy = 0.9488550759176155\n",
      "RandomForestClassifier with 40 estimators, count splits = 6,  accuracy = 0.951888549143478\n",
      "LinearSVC, count splits = 6,  accuracy = 0.9546311967072072\n",
      "LogisticRegression, count splits = 7,  accuracy = 0.9550997491628664\n",
      "DecisionTreeClassifier, count splits = 7,  accuracy = 0.9281983754155374\n",
      "XGBClassifier with 5 estimators, count splits = 7,  accuracy = 0.9539647212314851\n",
      "XGBClassifier with 10 estimators, count splits = 7,  accuracy = 0.9539647212314851\n",
      "XGBClassifier with 20 estimators, count splits = 7,  accuracy = 0.9547725702929665\n",
      "XGBClassifier with 40 estimators, count splits = 7,  accuracy = 0.9549462578411849\n",
      "RandomForestClassifier with 10 estimators, count splits = 7,  accuracy = 0.9496023362994858\n",
      "RandomForestClassifier with 40 estimators, count splits = 7,  accuracy = 0.9527691046204927\n",
      "LinearSVC, count splits = 7,  accuracy = 0.9552290050127035\n"
     ]
    }
   ],
   "source": [
    "from sklearn.linear_model import LogisticRegression\n",
    "from sklearn.svm import LinearSVC\n",
    "from sklearn.tree import DecisionTreeClassifier\n",
    "from sklearn.ensemble import RandomForestClassifier\n",
    "from sklearn.metrics import accuracy_score\n",
    "\n",
    "\n",
    "all_meta_features_train = []\n",
    "all_meta_features_test = []\n",
    "n_splits = np.arange(3, 8)\n",
    "\n",
    "meta_clfs = [LogisticRegression(), DecisionTreeClassifier(), \n",
    "             xgboost.XGBClassifier(n_estimators=5), xgboost.XGBClassifier(n_estimators=10), \n",
    "             xgboost.XGBClassifier(n_estimators=20),  xgboost.XGBClassifier(n_estimators=40),\n",
    "             RandomForestClassifier(n_estimators=10), RandomForestClassifier(n_estimators=40),\n",
    "             LinearSVC()]\n",
    "meta_names = ['LogisticRegression', 'DecisionTreeClassifier', 'XGBClassifier with 5 estimators',\n",
    "             'XGBClassifier with 10 estimators', 'XGBClassifier with 20 estimators', \n",
    "             'XGBClassifier with 40 estimators', 'RandomForestClassifier with 10 estimators', \n",
    "             'RandomForestClassifier with 40 estimators', 'LinearSVC']\n",
    "\n",
    "base_clfs = [DecisionTreeClassifier, LogisticRegression, DecisionTreeClassifier, \n",
    "             xgboost.XGBClassifier, xgboost.XGBClassifier,\n",
    "             RandomForestClassifier]\n",
    "\n",
    "base_args = [[[], {}], [[], {}], [[], {'max_depth' : 10}], [[], {'n_estimators' : 5}], [[], {'n_estimators' : 15}],\n",
    "            [[], {'n_estimators' : 10}]]\n",
    "\n",
    "for n_split in n_splits:\n",
    "    cv = KFold(n_splits=n_split)\n",
    "    for i, clf in enumerate(base_clfs):\n",
    "\n",
    "        meta_features_train, meta_y_train, meta_features_test = compute_meta_feature(clf, train_data, test_data, \n",
    "                                                                                     train_target, cv, *(base_args[i][0]),\n",
    "                                                                                     **(base_args[i][1]))\n",
    "        \n",
    "        if i == 0:\n",
    "            all_meta_features_train = meta_features_train\n",
    "            all_meta_features_test = meta_features_test\n",
    "        else:\n",
    "            all_meta_features_train = np.hstack((all_meta_features_train, meta_features_train))\n",
    "            all_meta_features_test = np.hstack((all_meta_features_test, meta_features_test))\n",
    "\n",
    "        \n",
    "    for i, meta_clf in enumerate(meta_clfs):\n",
    "            meta_clf.fit(all_meta_features_train, meta_y_train)\n",
    "            predict = meta_clf.predict(all_meta_features_test)\n",
    "            acc = accuracy_score(test_target, predict)\n",
    "            print('{}, count splits = {},  accuracy = {}'.format(meta_names[i], n_split, acc))\n",
    "    \n"
   ]
  },
  {
   "cell_type": "markdown",
   "metadata": {},
   "source": [
    "Лучше всего себя в качестве мета-классификатора показывает LinearSVC, LogisticRegression и XGBClassifier with 40 estimators. Также можно заметить, что мы сильно улучшили качество по сравнению с бейзлайном."
   ]
  },
  {
   "cell_type": "markdown",
   "metadata": {},
   "source": [
    "\n",
    "  - **(1 балл) Задание 7.** Обучите мета-классификатор на различных наборах факторов:\n",
    "    - исходные факторы,\n",
    "    - исходные факторы + мета-факторы,\n",
    "    - мета-факторы.\n",
    "    \n",
    "    Имеет ли смысл добавлять исходные факторы в мета-классификатор, если базовые классификаторы уже обучены на этом наборе? Удается ли добиться улучшения качества за счет стекинга? Какие классификаторы лучше сочетаются друг с другом в такой композиции?\n",
    "  - **(0.5 балла) Задание 8.** Попробуйте разные размеры фолда при подсчете мета-факторов. Влияет ли размер на качество?\n",
    "  - **(0.5 балла) Задание 9.** Зафиксируйте некоторый набор базовых классификаторов. Обучите поверх них линейную модель и сравните ее с мета-классификатором, который считает среднее по всем метафакторам. Дает ли преимущество линейная модель? О чем говорят коэффициенты линейной модели в данном случае?\n"
   ]
  },
  {
   "cell_type": "markdown",
   "metadata": {},
   "source": [
    "Для выполнения задания 7 выберем 3 мета-классификатора, которые ранее показали результат чуть лучше, чем остальные.\n"
   ]
  },
  {
   "cell_type": "code",
   "execution_count": 209,
   "metadata": {},
   "outputs": [
    {
     "name": "stdout",
     "output_type": "stream",
     "text": [
      "LogisticRegression trained on meta features,  accuracy = 0.954449430668374\n",
      "LogisticRegression trained on meta + initial features,  accuracy = 0.954380763498148\n",
      "LogisticRegression trained on initial features,  accuracy = 0.7732004152344176\n",
      "XGBClassifier with 40 estimators trained on meta features,  accuracy = 0.9547321778398924\n",
      "XGBClassifier with 40 estimators trained on meta + initial features,  accuracy = 0.9546998638774331\n",
      "XGBClassifier with 40 estimators trained on initial features,  accuracy = 0.7846920681339898\n",
      "LinearSVC trained on meta features,  accuracy = 0.9546998638774331\n",
      "LinearSVC trained on meta + initial features,  accuracy = 0.9399606577507058\n",
      "LinearSVC trained on initial features,  accuracy = 0.7206457945397482\n"
     ]
    }
   ],
   "source": [
    "all_meta_features_train = []\n",
    "all_meta_features_test = []\n",
    "\n",
    "meta_clfs = [LogisticRegression, xgboost.XGBClassifier, LinearSVC]\n",
    "meta_names = ['LogisticRegression','XGBClassifier with 40 estimators', 'LinearSVC']\n",
    "meta_args = [[[], {}],[[], {'n_estimators' : 40}], [[], {}]]\n",
    "\n",
    "\n",
    "cv = KFold(n_splits=4)\n",
    "for i, clf in enumerate(base_clfs):\n",
    "\n",
    "    meta_features_train, meta_y_train, meta_features_test = compute_meta_feature(clf, train_data, test_data, train_target, \n",
    "                                                                                 cv, *(base_args[i][0]), \n",
    "                                                                                 **(base_args[i][1]))\n",
    "\n",
    "    if i == 0:\n",
    "        all_meta_features_train = meta_features_train\n",
    "        all_meta_features_test = meta_features_test\n",
    "    else:\n",
    "        all_meta_features_train = np.hstack((all_meta_features_train, meta_features_train))\n",
    "        all_meta_features_test = np.hstack((all_meta_features_test, meta_features_test))\n",
    "        \n",
    "for i, meta_clf in enumerate(meta_clfs):\n",
    "    clf = meta_clf(*meta_args[i][0], **meta_args[i][1])\n",
    "    clf.fit(all_meta_features_train, train_target)\n",
    "    predict = clf.predict(all_meta_features_test)\n",
    "    acc = accuracy_score(test_target, predict)\n",
    "    print('{} trained on meta features,  accuracy = {}'.format(meta_names[i], acc))\n",
    "    \n",
    "    clf = meta_clf(*meta_args[i][0], **meta_args[i][1])\n",
    "    addition_features_train = np.hstack((all_meta_features_train, train_data))\n",
    "    addition_features_test = np.hstack((all_meta_features_test, test_data))\n",
    "    clf.fit(addition_features_train, train_target)\n",
    "    predict = clf.predict(addition_features_test)\n",
    "    acc = accuracy_score(test_target, predict)\n",
    "    print('{} trained on meta + initial features,  accuracy = {}'.format(meta_names[i], acc))\n",
    "    \n",
    "    clf = meta_clf(*meta_args[i][0], **meta_args[i][1])\n",
    "    clf.fit(train_data, train_target)\n",
    "    predict = clf.predict(test_data)\n",
    "    acc = accuracy_score(test_target, predict)\n",
    "    print('{} trained on initial features,  accuracy = {}'.format(meta_names[i], acc))\n",
    "\n"
   ]
  },
  {
   "cell_type": "markdown",
   "metadata": {},
   "source": [
    "Как видим, польза от стекинга огромная. Все мета-классификаторы в разы лучше работают на мета-факторах, чем без них. Кроме того, можно заметить, что качество при добавлении начальных факторов совсем не улучшается и даже немного ухудшается. Отсюда следует, что они излишни, так как базовые алгоритмы уже собрали из них почтю всю нужную информацию. Конечно, если бы мы выбрали слабые базовые алгоритмы и сильный мета-классификатор, то в добавлении исходных признаков смысл, наверное, был бы, так как слабые базовые алгоритмы не способны найти сложные закономерности в данных. Однако в данном случае, когда базовые алгоритмы сравнимы с мета-алгоритмом по сложности, в этом смысла нет."
   ]
  },
  {
   "cell_type": "markdown",
   "metadata": {},
   "source": [
    "Чтобы понять какие классификаторы лучше сочетаются друг с другом в такой композиции попробуем поперебирать разные базовые алгоритмы, чего мы еще не делали."
   ]
  },
  {
   "cell_type": "code",
   "execution_count": 252,
   "metadata": {},
   "outputs": [
    {
     "name": "stdout",
     "output_type": "stream",
     "text": [
      "model_combination = (0, 1), XGBClassifier accuracy : 0.93759, LogisticRegression accuracy : 0.9376\n",
      "model_combination = (0, 2), XGBClassifier accuracy : 0.93761, LogisticRegression accuracy : 0.9376\n",
      "model_combination = (0, 3), XGBClassifier accuracy : 0.9376, LogisticRegression accuracy : 0.9376\n",
      "model_combination = (0, 4), XGBClassifier accuracy : 0.93761, LogisticRegression accuracy : 0.9376\n",
      "model_combination = (0, 5), XGBClassifier accuracy : 0.95487, LogisticRegression accuracy : 0.95487\n",
      "model_combination = (1, 2), XGBClassifier accuracy : 0.832, LogisticRegression accuracy : 0.83213\n",
      "model_combination = (1, 3), XGBClassifier accuracy : 0.77721, LogisticRegression accuracy : 0.7757\n",
      "model_combination = (1, 4), XGBClassifier accuracy : 0.77943, LogisticRegression accuracy : 0.7771\n",
      "model_combination = (1, 5), XGBClassifier accuracy : 0.9475, LogisticRegression accuracy : 0.94701\n",
      "model_combination = (2, 3), XGBClassifier accuracy : 0.83138, LogisticRegression accuracy : 0.83186\n",
      "model_combination = (2, 4), XGBClassifier accuracy : 0.83169, LogisticRegression accuracy : 0.8318\n",
      "model_combination = (2, 5), XGBClassifier accuracy : 0.94652, LogisticRegression accuracy : 0.94532\n",
      "model_combination = (3, 4), XGBClassifier accuracy : 0.77648, LogisticRegression accuracy : 0.77543\n",
      "model_combination = (3, 5), XGBClassifier accuracy : 0.94753, LogisticRegression accuracy : 0.94738\n",
      "model_combination = (4, 5), XGBClassifier accuracy : 0.94758, LogisticRegression accuracy : 0.94748\n",
      "model_combination = (0, 1, 2), XGBClassifier accuracy : 0.93732, LogisticRegression accuracy : 0.9376\n",
      "model_combination = (0, 1, 3), XGBClassifier accuracy : 0.93758, LogisticRegression accuracy : 0.9376\n",
      "model_combination = (0, 1, 4), XGBClassifier accuracy : 0.9376, LogisticRegression accuracy : 0.9376\n",
      "model_combination = (0, 1, 5), XGBClassifier accuracy : 0.95651, LogisticRegression accuracy : 0.95618\n",
      "model_combination = (0, 2, 3), XGBClassifier accuracy : 0.93743, LogisticRegression accuracy : 0.9376\n",
      "model_combination = (0, 2, 4), XGBClassifier accuracy : 0.93758, LogisticRegression accuracy : 0.9376\n",
      "model_combination = (0, 2, 5), XGBClassifier accuracy : 0.95546, LogisticRegression accuracy : 0.95508\n",
      "model_combination = (0, 3, 4), XGBClassifier accuracy : 0.9376, LogisticRegression accuracy : 0.9376\n",
      "model_combination = (0, 3, 5), XGBClassifier accuracy : 0.95627, LogisticRegression accuracy : 0.95612\n",
      "model_combination = (0, 4, 5), XGBClassifier accuracy : 0.95634, LogisticRegression accuracy : 0.9559\n",
      "model_combination = (1, 2, 3), XGBClassifier accuracy : 0.83322, LogisticRegression accuracy : 0.83352\n",
      "model_combination = (1, 2, 4), XGBClassifier accuracy : 0.83323, LogisticRegression accuracy : 0.83296\n",
      "model_combination = (1, 2, 5), XGBClassifier accuracy : 0.94796, LogisticRegression accuracy : 0.94709\n",
      "model_combination = (1, 3, 4), XGBClassifier accuracy : 0.78067, LogisticRegression accuracy : 0.77832\n",
      "model_combination = (1, 3, 5), XGBClassifier accuracy : 0.94756, LogisticRegression accuracy : 0.94749\n",
      "model_combination = (1, 4, 5), XGBClassifier accuracy : 0.94766, LogisticRegression accuracy : 0.94747\n",
      "model_combination = (2, 3, 4), XGBClassifier accuracy : 0.83169, LogisticRegression accuracy : 0.83228\n",
      "model_combination = (2, 3, 5), XGBClassifier accuracy : 0.94797, LogisticRegression accuracy : 0.94778\n",
      "model_combination = (2, 4, 5), XGBClassifier accuracy : 0.94825, LogisticRegression accuracy : 0.9477\n",
      "model_combination = (3, 4, 5), XGBClassifier accuracy : 0.94742, LogisticRegression accuracy : 0.94742\n",
      "model_combination = (0, 1, 2, 3), XGBClassifier accuracy : 0.93736, LogisticRegression accuracy : 0.9376\n",
      "model_combination = (0, 1, 2, 4), XGBClassifier accuracy : 0.93755, LogisticRegression accuracy : 0.9376\n",
      "model_combination = (0, 1, 2, 5), XGBClassifier accuracy : 0.95657, LogisticRegression accuracy : 0.95615\n",
      "model_combination = (0, 1, 3, 4), XGBClassifier accuracy : 0.9376, LogisticRegression accuracy : 0.9376\n",
      "model_combination = (0, 1, 3, 5), XGBClassifier accuracy : 0.95659, LogisticRegression accuracy : 0.95632\n",
      "model_combination = (0, 1, 4, 5), XGBClassifier accuracy : 0.95652, LogisticRegression accuracy : 0.95617\n",
      "model_combination = (0, 2, 3, 4), XGBClassifier accuracy : 0.93754, LogisticRegression accuracy : 0.9376\n",
      "model_combination = (0, 2, 3, 5), XGBClassifier accuracy : 0.9563, LogisticRegression accuracy : 0.95603\n",
      "model_combination = (0, 2, 4, 5), XGBClassifier accuracy : 0.95643, LogisticRegression accuracy : 0.9558\n",
      "model_combination = (0, 3, 4, 5), XGBClassifier accuracy : 0.95634, LogisticRegression accuracy : 0.9561\n",
      "model_combination = (1, 2, 3, 4), XGBClassifier accuracy : 0.8336, LogisticRegression accuracy : 0.83394\n",
      "model_combination = (1, 2, 3, 5), XGBClassifier accuracy : 0.94808, LogisticRegression accuracy : 0.94769\n",
      "model_combination = (1, 2, 4, 5), XGBClassifier accuracy : 0.94822, LogisticRegression accuracy : 0.94776\n",
      "model_combination = (1, 3, 4, 5), XGBClassifier accuracy : 0.94751, LogisticRegression accuracy : 0.94752\n",
      "model_combination = (2, 3, 4, 5), XGBClassifier accuracy : 0.94811, LogisticRegression accuracy : 0.94777\n",
      "model_combination = (0, 1, 2, 3, 4), XGBClassifier accuracy : 0.93728, LogisticRegression accuracy : 0.9375\n",
      "model_combination = (0, 1, 2, 3, 5), XGBClassifier accuracy : 0.95674, LogisticRegression accuracy : 0.95618\n",
      "model_combination = (0, 1, 2, 4, 5), XGBClassifier accuracy : 0.95663, LogisticRegression accuracy : 0.95607\n",
      "model_combination = (0, 1, 3, 4, 5), XGBClassifier accuracy : 0.95656, LogisticRegression accuracy : 0.95634\n",
      "model_combination = (0, 2, 3, 4, 5), XGBClassifier accuracy : 0.95644, LogisticRegression accuracy : 0.95591\n",
      "model_combination = (1, 2, 3, 4, 5), XGBClassifier accuracy : 0.9481, LogisticRegression accuracy : 0.9478\n",
      "model_combination = (0, 1, 2, 3, 4, 5), XGBClassifier accuracy : 0.95665, LogisticRegression accuracy : 0.95611\n"
     ]
    }
   ],
   "source": [
    "from itertools import combinations\n",
    "\n",
    "models_range = np.arange(6)\n",
    "model_combinations = list(combinations(models_range, 2)) + list(combinations(models_range, 3)) + list(combinations(models_range, 4)) + list(combinations(models_range, 5)) + list(combinations(models_range, 6))\n",
    "\n",
    "base_clfs = np.array(base_clfs)\n",
    "base_args = np.array(base_args)\n",
    "\n",
    "# evaluate meta-features for each base learner\n",
    "cv = KFold(n_splits=3)\n",
    "clfs_meta_features_train = []\n",
    "clfs_meta_features_test = []\n",
    "for i, clf in enumerate(base_clfs):\n",
    "        meta_features_train, meta_y_train, meta_features_test = compute_meta_feature(clf, train_data, test_data, train_target, \n",
    "                                                                                     cv, *(base_args[i][0]), \n",
    "                                                                                     **(base_args[i][1]))\n",
    "\n",
    "        clfs_meta_features_train.append(meta_features_train)\n",
    "        clfs_meta_features_test.append(meta_features_test)\n",
    "        \n",
    "clfs_meta_features_train = np.array(clfs_meta_features_train)\n",
    "clfs_meta_features_test = np.array(clfs_meta_features_test)\n",
    "for model_inds in model_combinations:\n",
    "    \n",
    "    all_meta_features_train = np.hstack(clfs_meta_features_train[list(model_inds)])\n",
    "    all_meta_features_test = np.hstack(clfs_meta_features_test[list(model_inds)])\n",
    "    \n",
    "    meta_clf = xgboost.XGBClassifier()\n",
    "    meta_clf2 = LogisticRegression()\n",
    "    meta_clf.fit(all_meta_features_train, train_target)\n",
    "    predict1 = meta_clf.predict(all_meta_features_test)\n",
    "    acc1 = accuracy_score(test_target, predict1)\n",
    "    accs1.append(acc1)\n",
    "    \n",
    "    meta_clf2.fit(all_meta_features_train, train_target)\n",
    "    predict2 = meta_clf2.predict(all_meta_features_test)\n",
    "    acc2 = accuracy_score(test_target, predict2)\n",
    "    accs2.append(acc2)\n",
    "    \n",
    "    all_meta_features_train = []\n",
    "    all_meta_features_test = []\n",
    "    \n",
    "    print('model_combination = {}, XGBClassifier accuracy : {}, LogisticRegression accuracy : {}'.format(model_inds, \n",
    "                                                                                                         round(acc1, 5),\n",
    "                                                                                                         round(acc2, 5)))\n"
   ]
  },
  {
   "cell_type": "markdown",
   "metadata": {},
   "source": [
    "Видим, что выгодней выбирать не всех сразу, а взять (0, 1, 3, 4, 5), (0, 1, 2, 3, 5) или (0, 1, 3, 5).\n",
    "Возьмем, например, (0, 1, 3, 4, 5), то есть выкинем DecisionTreeClassifier с максимальной глубиной в 10."
   ]
  },
  {
   "cell_type": "markdown",
   "metadata": {},
   "source": [
    "Перейдем к заданию 8. Посмотрим на разное кол-во фолдов при подсчете мета-факторов."
   ]
  },
  {
   "cell_type": "code",
   "execution_count": 215,
   "metadata": {},
   "outputs": [],
   "source": [
    "all_meta_features_train = []\n",
    "all_meta_features_test = []\n",
    "\n",
    "accs1 = []\n",
    "accs2 = []\n",
    "n_splits = np.arange(2, 10)\n",
    "for n_split in n_splits:\n",
    "    cv = KFold(n_splits=n_split)\n",
    "    for i, clf in enumerate(base_clfs):\n",
    "\n",
    "        meta_features_train, meta_y_train, meta_features_test = compute_meta_feature(clf, train_data, test_data, \n",
    "                                                                                     train_target, cv, *(base_args[i][0]),\n",
    "                                                                                     **(base_args[i][1]))\n",
    "        \n",
    "        if i == 0:\n",
    "            all_meta_features_train = meta_features_train\n",
    "            all_meta_features_test = meta_features_test\n",
    "        else:\n",
    "            all_meta_features_train = np.hstack((all_meta_features_train, meta_features_train))\n",
    "            all_meta_features_test = np.hstack((all_meta_features_test, meta_features_test))\n",
    "\n",
    "        \n",
    "    meta_clf = xgboost.XGBClassifier()\n",
    "    meta_clf2 = LogisticRegression()\n",
    "    meta_clf.fit(all_meta_features_train, train_target)\n",
    "    predict1 = meta_clf.predict(all_meta_features_test)\n",
    "    acc1 = accuracy_score(test_target, predict1)\n",
    "    accs1.append(acc1)\n",
    "    \n",
    "    meta_clf2.fit(all_meta_features_train, train_target)\n",
    "    predict2 = meta_clf2.predict(all_meta_features_test)\n",
    "    acc2 = accuracy_score(test_target, predict2)\n",
    "    accs2.append(acc2)\n"
   ]
  },
  {
   "cell_type": "code",
   "execution_count": 214,
   "metadata": {},
   "outputs": [
    {
     "data": {
      "image/png": "[encoded data removed]",
      "text/plain": [
       "<matplotlib.figure.Figure at 0x1a2c60be80>"
      ]
     },
     "metadata": {},
     "output_type": "display_data"
    }
   ],
   "source": [
    "plt.figure(figsize=(15,7))\n",
    "plt.plot(n_splits, accs1, label='accuracy XGBClassifier')\n",
    "plt.plot(n_splits, accs2, label='accuracy LogisticRegression')\n",
    "plt.xlabel('count splits')\n",
    "plt.ylabel('accuracy')\n",
    "plt.legend()\n",
    "plt.grid(ls=':')\n",
    "plt.show()"
   ]
  },
  {
   "cell_type": "markdown",
   "metadata": {},
   "source": [
    "Немного странно, кажется, что при увиличении кол-ва фолдов качество должно увеличиваться, так как в этом случае базовые классификаторы обучаются на большем числе данных. Однако такой тенденции здесь не видно. Возможно это связано с неудачным разбаением данных на фолды. Если посмотреть на масштаб графика, то можно понять, что это изменение в accuracy совсем мало и можно считать, что качество не меняется при изменении кол-ва фолдов."
   ]
  },
  {
   "cell_type": "markdown",
   "metadata": {},
   "source": [
    "Задание 9.\n",
    "\n",
    "Найдем мета-факторы для наилучшей комбинации базовых алгоритмов и наилучшего кол-во сплитов в KFold. Возьмем в качестве линейной модели логистическую регрессию. <br>\n",
    "Не будем считать мета-факторы деще раз, так как они уже посчитаны ранее для данных базовых алгоритмов."
   ]
  },
  {
   "cell_type": "code",
   "execution_count": 254,
   "metadata": {},
   "outputs": [
    {
     "name": "stdout",
     "output_type": "stream",
     "text": [
      "Logistic regression, accuracy : 0.9563438367175477\n",
      "Mean of base learners, accuracy : 0.9306946290155147\n"
     ]
    }
   ],
   "source": [
    "all_meta_features_train = []\n",
    "all_meta_features_test = []\n",
    "\n",
    "base_clfs = [DecisionTreeClassifier, LogisticRegression, \n",
    "             xgboost.XGBClassifier, xgboost.XGBClassifier,\n",
    "             RandomForestClassifier]\n",
    "\n",
    "\n",
    "all_meta_features_train = np.hstack(clfs_meta_features_train[[0, 1, 3, 4, 5]])\n",
    "all_meta_features_test = np.hstack(clfs_meta_features_test[[0, 1, 3, 4, 5]])\n",
    "        \n",
    "meta_clf = LogisticRegression()\n",
    "meta_clf.fit(all_meta_features_train, train_target)\n",
    "predict = meta_clf.predict(all_meta_features_test)\n",
    "acc_linear = accuracy_score(test_target, predict)\n",
    "\n",
    "proba_1 = np.mean(all_meta_features_test[:,np.arange(0, all_meta_features_test.shape[1], 2)], axis=-1)\n",
    "proba_2 = np.mean(all_meta_features_test[:,np.arange(1, all_meta_features_test.shape[1], 2)], axis=-1)\n",
    "predict_mean = np.ones(test_target.shape)\n",
    "predict_mean[proba_2 > 0.5] = 2\n",
    "\n",
    "acc_mean = accuracy_score(test_target, predict_mean)\n",
    "    \n",
    "print('Logistic regression, accuracy : {}'.format(acc_linear))\n",
    "print('Mean of base learners, accuracy : {}'.format(acc_mean))"
   ]
  },
  {
   "cell_type": "markdown",
   "metadata": {},
   "source": [
    "Получили, что логистическая регрессия над базовыми алгоритмами дает результат сильно лучше, чем простое усреднение ответов базовых алгоритмов."
   ]
  },
  {
   "cell_type": "markdown",
   "metadata": {},
   "source": [
    "Посмотрим на коэффициенты, полученные после обучения логистической регрессии."
   ]
  },
  {
   "cell_type": "code",
   "execution_count": 255,
   "metadata": {},
   "outputs": [
    {
     "data": {
      "text/plain": [
       "array([[-1.13195155,  1.11151653,  0.3347558 , -0.35519081,  0.98111756,\n",
       "        -1.00155246,  0.2281055 , -0.2485403 , -4.14179855,  4.12136354]])"
      ]
     },
     "execution_count": 255,
     "metadata": {},
     "output_type": "execute_result"
    }
   ],
   "source": [
    "meta_clf.coef_"
   ]
  },
  {
   "cell_type": "markdown",
   "metadata": {},
   "source": [
    "Можно заметить, что коэ-ты с номерами $2i$ и $2i +1$ очень похожи по модулю друг на друга. Вспомним, что каждый из базовых алгоритмов в моей реализации возвращает пару - 2 вероятности принадлежности к классу. Отсюда можно понять, что данные веса показываю то, начколько можно доверять базовому алгоритму. Например, первому (DecisionTreeClassifier), третьему (XGBClassifier с 5 estimators) и последнему (RandomForestClassifier с 10 estimators) логистическая регрессия доверяет больше всего. "
   ]
  },
  {
   "cell_type": "markdown",
   "metadata": {},
   "source": [
    "## Поисковое ранжирование\n",
    "\n",
    "![](http://i.imgur.com/2QnD2nF.jpg)\n",
    "\n",
    "Задачу поискового ранжирования можно описать следующим образом: имеется множество документов $d \\in D$ и множество запросов $q \\in Q$. Требуется оценить *степень релевантности* документа по отношению к запросу: $(q, d) \\mapsto r$, относительно которой будет производиться ранжирование. Для восстановления этой зависимости используются методы машинного обучения. Обычно используется три типа:\n",
    " - признаки запроса $q$, например: мешок слов текста запроса, его длина, ...\n",
    " - документа $d$, например: значение PageRank, мешок слов, доменное имя, ...\n",
    " - пары $(q, d)$, например: число вхождений фразы из запроса $q$ в документе $d$, ...\n",
    "\n",
    "Одна из отличительных особенностей задачи ранжирования от классических задач машинного обучения заключается в том, что качество результата зависит не от предсказанных оценок релевантности, а от порядка следования документов в рамках конкретного запроса, т.е. важно не абсолютное значение релевантности (его достаточно трудно формализовать в виде числа), а то, более или менее релевантен документ, относительно других документов.\n",
    "### Подходы к решению задачи ранжирования\n",
    "Существуют 3 основных подхода, различие между которыми в используемой функции потерь:\n",
    "  \n",
    "1. **Pointwise подход**. В этом случае рассматривается *один объект* (в случае поискового ранжирования - конкретный документ) и функция потерь считается только по нему. Любой стандартный классификатор или регрессор может решать pointwise задачу ранжирования, обучившись предсказывать значение таргета. Итоговое ранжирование получается после сортировки документов к одному запросу по предсказанию такой модели.\n",
    "2. **Pairwise подход**. В рамках данной модели функция потерь вычисляется по *паре объектов*. Другими словами, функция потерь штрафует модель, если отражированная этой моделью пара документов оказалась в неправильном порядке.\n",
    "3. **Listwise подход**. Этот подход использует все объекты для вычисления функции потерь, стараясь явно оптимизировать правильный порядок.\n",
    "\n",
    "### Оценка качества\n",
    "\n",
    "Для оценивания качества ранжирования найденных документов в поиске используются асессорские оценки. Само оценивание происходит на скрытых от обучения запросах $Queries$. Для этого традиционно используется метрика *DCG* ([Discounted Cumulative Gain](https://en.wikipedia.org/wiki/Discounted_cumulative_gain)) и ее нормализованный вариант — *nDCG*, всегда принимающий значения от 0 до 1.\n",
    "Для одного запроса DCG считается следующим образом:\n",
    "$$ DCG = \\sum_{i=1}^P\\frac{(2^{rel_i} - 1)}{\\log_2(i+1)}, $$\n",
    "\n",
    "где $P$ — число документов в поисковой выдаче, $rel_i$ — релевантность (асессорская оценка) документа, находящегося на i-той позиции.\n",
    "\n",
    "*IDCG* — идеальное (наибольшее из возможных) значение *DCG*, может быть получено путем ранжирования документов по убыванию асессорских оценок.\n",
    "\n",
    "Итоговая формула для расчета *nDCG*:\n",
    "\n",
    "$$nDCG = \\frac{DCG}{IDCG} \\in [0, 1].$$\n",
    "\n",
    "Чтобы оценить значение *nDCG* на выборке $Queries$ ($nDCG_{Queries}$) размера $N$, необходимо усреднить значение *nDCG* по всем запросам  выборки:\n",
    "$$nDCG_{Queries} = \\frac{1}{N}\\sum_{q \\in Queries}nDCG(q).$$\n",
    "\n",
    "Пример реализации метрик ранжирование на python можно найти [здесь](https://gist.github.com/mblondel/7337391)."
   ]
  },
  {
   "cell_type": "markdown",
   "metadata": {},
   "source": [
    "Загрузите данные конкурса [Интернет-математика 2009](http://imat2009.yandex.ru/datasets). Там же находится описание данных. Сами данные можно скачать [здесь](https://www.dropbox.com/s/xj3g18s01m1euzl/imat2009.tar.bz2?dl=0). Разбейте обучающую выборку на обучение и контроль в соотношении 70 / 30. Обратите внимание на формат данных: разбивать необходимо множество запросов, а не строчки датасета."
   ]
  },
  {
   "cell_type": "code",
   "execution_count": 43,
   "metadata": {},
   "outputs": [],
   "source": [
    "with open('imat2009-datasets/imat2009_learning.txt', 'r') as f:\n",
    "    lines = f.readlines()\n",
    "    \n",
    "features_vectors = []\n",
    "for line in lines:\n",
    "    line = line.strip()\n",
    "    features, query = line.strip().split('#')\n",
    "    \n",
    "    features = features.split()\n",
    "    rel = float(features[0])\n",
    "    \n",
    "    feature_vector = np.zeros(245)\n",
    "    for feature in features[1:]:\n",
    "        name, value = feature.split(':')\n",
    "        feature_vector[int(name) - 1] = float(value)\n",
    "    features_vectors.append(np.hstack(([rel, int(query)], feature_vector)))\n",
    "    \n"
   ]
  },
  {
   "cell_type": "code",
   "execution_count": 44,
   "metadata": {},
   "outputs": [
    {
     "data": {
      "text/html": [
       "<div>\n",
       "<table border=\"1\" class=\"dataframe\">\n",
       "  <thead>\n",
       "    <tr style=\"text-align: right;\">\n",
       "      <th></th>\n",
       "      <th>rel</th>\n",
       "      <th>query</th>\n",
       "      <th>1</th>\n",
       "      <th>2</th>\n",
       "      <th>3</th>\n",
       "      <th>4</th>\n",
       "      <th>5</th>\n",
       "      <th>6</th>\n",
       "      <th>7</th>\n",
       "      <th>8</th>\n",
       "      <th>...</th>\n",
       "      <th>236</th>\n",
       "      <th>237</th>\n",
       "      <th>238</th>\n",
       "      <th>239</th>\n",
       "      <th>240</th>\n",
       "      <th>241</th>\n",
       "      <th>242</th>\n",
       "      <th>243</th>\n",
       "      <th>244</th>\n",
       "      <th>245</th>\n",
       "    </tr>\n",
       "  </thead>\n",
       "  <tbody>\n",
       "    <tr>\n",
       "      <th>0</th>\n",
       "      <td>1.0</td>\n",
       "      <td>3382</td>\n",
       "      <td>0.000023</td>\n",
       "      <td>0.0</td>\n",
       "      <td>0.000000</td>\n",
       "      <td>0.000000</td>\n",
       "      <td>0.0</td>\n",
       "      <td>0.0</td>\n",
       "      <td>0.704953</td>\n",
       "      <td>0.550315</td>\n",
       "      <td>...</td>\n",
       "      <td>0.032749</td>\n",
       "      <td>0.0</td>\n",
       "      <td>0.0</td>\n",
       "      <td>0.0</td>\n",
       "      <td>0.000000</td>\n",
       "      <td>0.0</td>\n",
       "      <td>0.0</td>\n",
       "      <td>0.000023</td>\n",
       "      <td>1.000000</td>\n",
       "      <td>0.000023</td>\n",
       "    </tr>\n",
       "    <tr>\n",
       "      <th>1</th>\n",
       "      <td>1.0</td>\n",
       "      <td>3382</td>\n",
       "      <td>0.000000</td>\n",
       "      <td>0.0</td>\n",
       "      <td>0.000000</td>\n",
       "      <td>0.000000</td>\n",
       "      <td>0.0</td>\n",
       "      <td>0.0</td>\n",
       "      <td>0.273423</td>\n",
       "      <td>0.000000</td>\n",
       "      <td>...</td>\n",
       "      <td>0.032749</td>\n",
       "      <td>0.0</td>\n",
       "      <td>0.0</td>\n",
       "      <td>0.0</td>\n",
       "      <td>0.000000</td>\n",
       "      <td>0.0</td>\n",
       "      <td>0.0</td>\n",
       "      <td>0.000000</td>\n",
       "      <td>0.862745</td>\n",
       "      <td>0.000000</td>\n",
       "    </tr>\n",
       "    <tr>\n",
       "      <th>2</th>\n",
       "      <td>1.0</td>\n",
       "      <td>3382</td>\n",
       "      <td>0.000000</td>\n",
       "      <td>0.0</td>\n",
       "      <td>0.006800</td>\n",
       "      <td>0.051546</td>\n",
       "      <td>0.0</td>\n",
       "      <td>0.0</td>\n",
       "      <td>0.671346</td>\n",
       "      <td>0.000000</td>\n",
       "      <td>...</td>\n",
       "      <td>0.032749</td>\n",
       "      <td>0.0</td>\n",
       "      <td>0.0</td>\n",
       "      <td>0.0</td>\n",
       "      <td>0.154346</td>\n",
       "      <td>0.0</td>\n",
       "      <td>0.0</td>\n",
       "      <td>0.000000</td>\n",
       "      <td>0.811765</td>\n",
       "      <td>0.000000</td>\n",
       "    </tr>\n",
       "    <tr>\n",
       "      <th>3</th>\n",
       "      <td>1.0</td>\n",
       "      <td>3382</td>\n",
       "      <td>0.000000</td>\n",
       "      <td>0.0</td>\n",
       "      <td>0.000862</td>\n",
       "      <td>0.030928</td>\n",
       "      <td>0.0</td>\n",
       "      <td>0.0</td>\n",
       "      <td>0.573946</td>\n",
       "      <td>0.000000</td>\n",
       "      <td>...</td>\n",
       "      <td>0.032749</td>\n",
       "      <td>0.0</td>\n",
       "      <td>0.0</td>\n",
       "      <td>0.0</td>\n",
       "      <td>0.039509</td>\n",
       "      <td>0.0</td>\n",
       "      <td>0.0</td>\n",
       "      <td>0.000000</td>\n",
       "      <td>1.000000</td>\n",
       "      <td>0.000000</td>\n",
       "    </tr>\n",
       "    <tr>\n",
       "      <th>4</th>\n",
       "      <td>1.0</td>\n",
       "      <td>3382</td>\n",
       "      <td>0.000000</td>\n",
       "      <td>0.0</td>\n",
       "      <td>0.000000</td>\n",
       "      <td>0.000000</td>\n",
       "      <td>0.0</td>\n",
       "      <td>0.0</td>\n",
       "      <td>0.261436</td>\n",
       "      <td>0.000000</td>\n",
       "      <td>...</td>\n",
       "      <td>0.032749</td>\n",
       "      <td>0.0</td>\n",
       "      <td>0.0</td>\n",
       "      <td>0.0</td>\n",
       "      <td>0.000000</td>\n",
       "      <td>0.0</td>\n",
       "      <td>0.0</td>\n",
       "      <td>0.000000</td>\n",
       "      <td>0.882353</td>\n",
       "      <td>0.000000</td>\n",
       "    </tr>\n",
       "  </tbody>\n",
       "</table>\n",
       "<p>5 rows × 247 columns</p>\n",
       "</div>"
      ],
      "text/plain": [
       "   rel  query         1    2         3         4    5    6         7  \\\n",
       "0  1.0   3382  0.000023  0.0  0.000000  0.000000  0.0  0.0  0.704953   \n",
       "1  1.0   3382  0.000000  0.0  0.000000  0.000000  0.0  0.0  0.273423   \n",
       "2  1.0   3382  0.000000  0.0  0.006800  0.051546  0.0  0.0  0.671346   \n",
       "3  1.0   3382  0.000000  0.0  0.000862  0.030928  0.0  0.0  0.573946   \n",
       "4  1.0   3382  0.000000  0.0  0.000000  0.000000  0.0  0.0  0.261436   \n",
       "\n",
       "          8    ...          236  237  238  239       240  241  242       243  \\\n",
       "0  0.550315    ...     0.032749  0.0  0.0  0.0  0.000000  0.0  0.0  0.000023   \n",
       "1  0.000000    ...     0.032749  0.0  0.0  0.0  0.000000  0.0  0.0  0.000000   \n",
       "2  0.000000    ...     0.032749  0.0  0.0  0.0  0.154346  0.0  0.0  0.000000   \n",
       "3  0.000000    ...     0.032749  0.0  0.0  0.0  0.039509  0.0  0.0  0.000000   \n",
       "4  0.000000    ...     0.032749  0.0  0.0  0.0  0.000000  0.0  0.0  0.000000   \n",
       "\n",
       "        244       245  \n",
       "0  1.000000  0.000023  \n",
       "1  0.862745  0.000000  \n",
       "2  0.811765  0.000000  \n",
       "3  1.000000  0.000000  \n",
       "4  0.882353  0.000000  \n",
       "\n",
       "[5 rows x 247 columns]"
      ]
     },
     "execution_count": 44,
     "metadata": {},
     "output_type": "execute_result"
    }
   ],
   "source": [
    "columns = ['rel', 'query'] + list(map(str, np.arange(1, 246)))\n",
    "data = pd.DataFrame(features_vectors, columns=columns)\n",
    "data['query'] = list(map(int, np.array(data['query'])))\n",
    "data.head()"
   ]
  },
  {
   "cell_type": "code",
   "execution_count": 34,
   "metadata": {
    "collapsed": true
   },
   "outputs": [],
   "source": [
    "from sklearn.cross_validation import train_test_split"
   ]
  },
  {
   "cell_type": "code",
   "execution_count": 79,
   "metadata": {},
   "outputs": [],
   "source": [
    "unique_queries = data['query'].unique()\n",
    "train_queries, test_queries = train_test_split(unique_queries, test_size=3/7)\n",
    "train_queries, valid_queries = train_test_split(train_queries, test_size=1/7)\n",
    "\n",
    "train_data = data[data['query'].isin(train_queries)]\n",
    "valid_data = data[data['query'].isin(valid_queries)]\n",
    "test_data = data[data['query'].isin(test_queries)]"
   ]
  },
  {
   "cell_type": "markdown",
   "metadata": {
    "collapsed": true
   },
   "source": [
    "Далее рассмотрим несколько подходов предсказания релевантности. Для оценивания качества моделей используйте метрику nDCG на контроле. В случае подбора гиперпараметров используйте кросс-валидацию по 5 блокам, где разбиение должно быть по запросам, а не строчкам датасета.\n",
    "\n",
    "**(1 балл) Задание 10.** *Pointwise* подход. Воспользовавшись известными вам техниками построения линейной регрессии, обучите модель, предсказывающую оценку асессора."
   ]
  },
  {
   "cell_type": "code",
   "execution_count": 57,
   "metadata": {},
   "outputs": [],
   "source": [
    "def DSG(y_true, y_pred, k=10):\n",
    "    order = np.argsort(y_pred)[::-1]\n",
    "    y_true = y_true[order[:k]]\n",
    "    gains = 2 ** y_true - 1\n",
    "    discount = np.log2(np.arange(len(y_true)) + 2)\n",
    "    return np.sum(gains / discount)\n",
    "                  \n",
    "def nDSG(y_true, y_pred, k=10):\n",
    "    best = DSG(y_true, y_true, k)\n",
    "    actual = DSG(y_true, y_pred, k)\n",
    "    return actual / best"
   ]
  },
  {
   "cell_type": "code",
   "execution_count": 58,
   "metadata": {},
   "outputs": [
    {
     "name": "stdout",
     "output_type": "stream",
     "text": [
      "nDSG for linear regression = 0.8964428269060618\n"
     ]
    }
   ],
   "source": [
    "from sklearn.linear_model import LinearRegression\n",
    "\n",
    "\n",
    "reg = LinearRegression()\n",
    "reg.fit(np.array(train_data.iloc[:,1:]), np.array(train_data.iloc[:,0]))\n",
    "prediction = reg.predict(np.array(test_data.iloc[:,1:]))\n",
    "\n",
    "print('nDSG for linear regression = {}'.format(nDSG(np.array(test_data.iloc[:,0]), prediction)))"
   ]
  },
  {
   "cell_type": "markdown",
   "metadata": {},
   "source": [
    "###  Ранжируем с XGBoost\n",
    "\n",
    "XGBoost имеет несколько функций потерь для решения задачи ранжирования:\n",
    "1. **reg:linear** — данную функцию потерь можно использовать для решения задачи ранжирование *pointwise* подходом.\n",
    "2. **rank:pairwise** — в качестве *pairwise* модели в XGBoost реализован [RankNet](http://icml.cc/2015/wp-content/uploads/2015/06/icml_ranking.pdf), в котором минимизируется гладкий функционал качества ранжирования: $$ Obj = \\sum_{i \\prec j} \\mathcal{L}\\left(a(x_j) - a(x_i)\\right) \\rightarrow min $$ $$ \\mathcal{L}(M) = log(1 + e^{-M}), $$ где $ a(x) $ - функция ранжирования. Суммирование ведется по всем парам объектов, для которых определено отношение порядка, например, для пар документов, показанных по одному запросу. Таким образом функция потерь штрафует за то, что пара объектов неправильно упорядочена.\n",
    "3. **rank:map, rank:ndcg** — реализация [LambdaRank](https://www.microsoft.com/en-us/research/wp-content/uploads/2016/02/MSR-TR-2010-82.pdf) для двух метрик: [MAP](https://en.wikipedia.org/wiki/Information_retrieval#Mean_average_precision) и **nDCG**. Известно, что для того, чтобы оптимизировать негладкий функционал, такой как **nDCG**,  нужно домножить градиент функционала $ Obj(a) $ на значение $\\Delta NDCG_{ij} $ — изменение значения функционала качества при замене $x_i$ на $ x_j$.  Поскольку для вычисления метрик необходимы все объекты выборки, то эти две ранжирующие функции потерь являются представителями класса *listwise* моделей."
   ]
  },
  {
   "cell_type": "markdown",
   "metadata": {},
   "source": [
    "**(2 балла) Задание 11.** Обучите модели **reg:linear**, **rank:pairwise** и **rank:ndcg**, в качестве метрики оценки качества (*eval_metric*) используя *nDCG*, а в качестве бустера решающее дерево. Настройте [параметры](https://github.com/dmlc/xgboost/blob/master/doc/parameter.md) алгоритма и добейтесь высокого качества на тестовой выборке."
   ]
  },
  {
   "cell_type": "code",
   "execution_count": 143,
   "metadata": {
    "collapsed": true
   },
   "outputs": [],
   "source": [
    "X_train = np.array(train_data.iloc[:,1:])\n",
    "X_test = np.array(test_data.iloc[:,1:])\n",
    "X_valid = np.array(valid_data.iloc[:,1:])\n",
    "y_train = np.array(train_data.iloc[:,0])\n",
    "y_test = np.array(test_data.iloc[:,0])\n",
    "y_valid = np.array(valid_data.iloc[:,0])"
   ]
  },
  {
   "cell_type": "code",
   "execution_count": 152,
   "metadata": {
    "collapsed": true
   },
   "outputs": [],
   "source": [
    "def compute_groups(X):\n",
    "    prev_query = X[:,0][0]\n",
    "    cur_query = X[:,0][0]\n",
    "    groups = []\n",
    "    group = 0\n",
    "\n",
    "    for i in range(len(X[:,0])):\n",
    "        cur_query = X[:,0][i]\n",
    "        if cur_query == prev_query:\n",
    "            group += 1\n",
    "        else:\n",
    "            groups.append(group)\n",
    "            group = 1\n",
    "            prev_query = cur_query\n",
    "    groups.append(group)\n",
    "    return groups"
   ]
  },
  {
   "cell_type": "code",
   "execution_count": 153,
   "metadata": {},
   "outputs": [],
   "source": [
    "groups_train = compute_groups(X_train)\n",
    "groups_test = compute_groups(X_test)\n",
    "groups_valid = compute_groups(X_valid)"
   ]
  },
  {
   "cell_type": "code",
   "execution_count": 155,
   "metadata": {},
   "outputs": [
    {
     "name": "stdout",
     "output_type": "stream",
     "text": [
      "[0]\teval-ndcg:0.860544\n",
      "[0]\teval-ndcg:0.853815\n"
     ]
    }
   ],
   "source": [
    "import xgboost as xgb\n",
    "from xgboost import DMatrix\n",
    "\n",
    "params = {\"objective\" : \"reg:linear\", \n",
    "         \"booster\" : \"gbtree\",\n",
    "         \"eval_metric\" : \"ndcg\"}\n",
    "\n",
    "xgtrain = DMatrix(X_train, label=y_train)\n",
    "xgtrain.set_group(groups_train)\n",
    "\n",
    "xgtest = DMatrix(X_test, label=y_test)\n",
    "xgtest.set_group(groups_test)\n",
    "\n",
    "xgvalidate = DMatrix(X_valid, label=y_valid)\n",
    "xgvalidate.set_group(groups_valid)\n",
    "\n",
    "bst1 = xgb.train(params, xgtrain)\n",
    "print(bst1.eval(xgtest))\n",
    "print(bst3.eval(xgvalidate))"
   ]
  },
  {
   "cell_type": "code",
   "execution_count": 156,
   "metadata": {},
   "outputs": [
    {
     "name": "stdout",
     "output_type": "stream",
     "text": [
      "[0]\teval-ndcg:0.852083\n",
      "[0]\teval-ndcg:0.853815\n"
     ]
    }
   ],
   "source": [
    "params = {\"objective\" : \"rank:ndcg\", \n",
    "         \"booster\" : \"gbtree\",\n",
    "         \"eval_metric\" : \"ndcg\"}\n",
    "\n",
    "bst2 = xgb.train(params, xgtrain)\n",
    "print(bst2.eval(xgtest))\n",
    "print(bst3.eval(xgvalidate))"
   ]
  },
  {
   "cell_type": "code",
   "execution_count": 157,
   "metadata": {},
   "outputs": [
    {
     "name": "stdout",
     "output_type": "stream",
     "text": [
      "[0]\teval-ndcg:0.854497\n",
      "[0]\teval-ndcg:0.854871\n"
     ]
    }
   ],
   "source": [
    "params = {\"objective\" : \"rank:pairwise\", \n",
    "         \"booster\" : \"gbtree\",\n",
    "         \"eval_metric\" : \"ndcg\"}\n",
    "\n",
    "bst3 = xgb.train(params, xgtrain)\n",
    "print(bst3.eval(xgtest))\n",
    "print(bst3.eval(xgvalidate))"
   ]
  },
  {
   "cell_type": "markdown",
   "metadata": {},
   "source": [
    "Ну, судя по всему модель rank:pairwise является самой оптимальной по валидации, поэтому для подбора параметров будем использовать именно ее. Сначала подберем learning rate и кол-во итераций, то есть кол-во деревьев."
   ]
  },
  {
   "cell_type": "code",
   "execution_count": 161,
   "metadata": {},
   "outputs": [
    {
     "name": "stdout",
     "output_type": "stream",
     "text": [
      "num boost = 10, eta = 0.1, nDSG validate = 0.845848, nDSG test = 0.851340\n",
      "num boost = 10, eta = 0.2, nDSG validate = 0.857754, nDSG test = 0.851605\n",
      "num boost = 10, eta = 0.3, nDSG validate = 0.854871, nDSG test = 0.854497\n",
      "num boost = 10, eta = 0.4, nDSG validate = 0.858798, nDSG test = 0.856585\n",
      "num boost = 25, eta = 0.1, nDSG validate = 0.858544, nDSG test = 0.858359\n",
      "num boost = 25, eta = 0.2, nDSG validate = 0.867164, nDSG test = 0.861655\n",
      "num boost = 25, eta = 0.3, nDSG validate = 0.863336, nDSG test = 0.862793\n",
      "num boost = 25, eta = 0.4, nDSG validate = 0.866391, nDSG test = 0.862972\n",
      "num boost = 40, eta = 0.1, nDSG validate = 0.864723, nDSG test = 0.864392\n",
      "num boost = 40, eta = 0.2, nDSG validate = 0.869961, nDSG test = 0.866212\n",
      "num boost = 40, eta = 0.3, nDSG validate = 0.872725, nDSG test = 0.865842\n",
      "num boost = 40, eta = 0.4, nDSG validate = 0.871656, nDSG test = 0.865904\n",
      "num boost = 55, eta = 0.1, nDSG validate = 0.866525, nDSG test = 0.864708\n",
      "num boost = 55, eta = 0.2, nDSG validate = 0.869649, nDSG test = 0.867360\n",
      "num boost = 55, eta = 0.3, nDSG validate = 0.872514, nDSG test = 0.867438\n",
      "num boost = 55, eta = 0.4, nDSG validate = 0.867895, nDSG test = 0.866193\n",
      "num boost = 70, eta = 0.1, nDSG validate = 0.872111, nDSG test = 0.866513\n",
      "num boost = 70, eta = 0.2, nDSG validate = 0.870821, nDSG test = 0.868916\n",
      "num boost = 70, eta = 0.3, nDSG validate = 0.876239, nDSG test = 0.866496\n",
      "num boost = 70, eta = 0.4, nDSG validate = 0.867597, nDSG test = 0.865470\n",
      "num boost = 85, eta = 0.1, nDSG validate = 0.875269, nDSG test = 0.867739\n",
      "num boost = 85, eta = 0.2, nDSG validate = 0.872439, nDSG test = 0.868906\n",
      "num boost = 85, eta = 0.3, nDSG validate = 0.875559, nDSG test = 0.866625\n",
      "num boost = 85, eta = 0.4, nDSG validate = 0.871472, nDSG test = 0.866133\n",
      "num boost = 100, eta = 0.1, nDSG validate = 0.875813, nDSG test = 0.869077\n",
      "num boost = 100, eta = 0.2, nDSG validate = 0.872473, nDSG test = 0.870575\n",
      "num boost = 100, eta = 0.3, nDSG validate = 0.875917, nDSG test = 0.867000\n",
      "num boost = 100, eta = 0.4, nDSG validate = 0.870045, nDSG test = 0.864736\n"
     ]
    }
   ],
   "source": [
    "nums_boost = np.arange(10, 101, 15)\n",
    "etas = [0.1, 0.2, 0.3, 0.4]\n",
    "\n",
    "for num in nums_boost:\n",
    "    for eta in etas:\n",
    "        params = {\"objective\" : \"rank:pairwise\", \n",
    "         \"booster\" : \"gbtree\",\n",
    "         \"eval_metric\" : \"ndcg\",\n",
    "                 \"eta\": eta}\n",
    "        bst = xgb.train(params, xgtrain, num_boost_round=num)\n",
    "\n",
    "        print('num boost = {}, eta = {}, nDSG validate = {}, nDSG test = {}'.format(num, eta, \n",
    "                                                                                    bst.eval(xgvalidate).split(':')[1],\n",
    "                                                                                    bst.eval(xgtest).split(':')[1]))"
   ]
  },
  {
   "cell_type": "markdown",
   "metadata": {},
   "source": [
    "Одно из лучших значений на валидации получилось при eta=0.3 и кол-ве итераций в 100 или 70."
   ]
  },
  {
   "cell_type": "markdown",
   "metadata": {},
   "source": [
    "Теперь подберем максимальную глубину дерева."
   ]
  },
  {
   "cell_type": "code",
   "execution_count": 162,
   "metadata": {},
   "outputs": [
    {
     "name": "stdout",
     "output_type": "stream",
     "text": [
      "max depths = 3, nDSG validate = 0.868871, nDSG test = 0.865612\n",
      "max depths = 4, nDSG validate = 0.874638, nDSG test = 0.866649\n",
      "max depths = 5, nDSG validate = 0.872599, nDSG test = 0.867223\n",
      "max depths = 6, nDSG validate = 0.876239, nDSG test = 0.866496\n",
      "max depths = 7, nDSG validate = 0.869368, nDSG test = 0.865877\n",
      "max depths = 8, nDSG validate = 0.866952, nDSG test = 0.865067\n",
      "max depths = 9, nDSG validate = 0.869132, nDSG test = 0.860943\n"
     ]
    }
   ],
   "source": [
    "depths = np.arange(3, 10)\n",
    "for depth in depths:\n",
    "    params = {\"objective\" : \"rank:pairwise\", \n",
    "         \"booster\" : \"gbtree\",\n",
    "         \"eval_metric\" : \"ndcg\",\n",
    "              \"eta\": 0.3,\n",
    "              \"max_depth\" : depth}\n",
    "    bst = xgb.train(params, xgtrain, num_boost_round=70)\n",
    "    print('max depths = {}, nDSG validate = {}, nDSG test = {}'.format(depth,bst.eval(xgvalidate).split(':')[1],\n",
    "                                                                       bst.eval(xgtest).split(':')[1]))"
   ]
  },
  {
   "cell_type": "markdown",
   "metadata": {},
   "source": [
    "Судя по валидации оптимальная длина = 6, то есть стандартное значение."
   ]
  },
  {
   "cell_type": "markdown",
   "metadata": {},
   "source": [
    "#### Пользовательская функция потерь\n",
    "\n",
    "Библиотека XGBoost позволяет использовать пользовательские функции потерь. Для этого необходимо реализовать функцию, принимающую на вход вектор предсказанных значений и обучающую выборку, и возвращающую градиент и гессиан, посчитанный по входным данным.\n",
    "\n",
    "Важно отметить, что XGBoost использует диагональную аппроксимацию гессиана, таким образом все недиагональные элементы считаются малозначимыми и приравниваются нулю, поэтому и градиент, и гессиан являются векторами длины размера обучающей выборки.\n",
    "\n",
    "**(4 балла) Задание 12.** Реализуйте экспоненциальную функцию потерь для XGBoost:\n",
    "$$ Obj = \\sum_{i \\prec j} \\mathcal{L}\\left(a(x_j) - a(x_i)\\right) \\rightarrow min $$ $$ \\mathcal{L}(M) = e^{-M} $$\n",
    "\n",
    "Обучите модель с помощью данной функции потерь, настройте параметры."
   ]
  },
  {
   "cell_type": "markdown",
   "metadata": {},
   "source": [
    "**Комментарии к реализации**\n",
    "\n",
    "В случае ранжирования XGBoost'у необходимо знать о разбиении всех объектов на группы. В нашем случае в одну группу будут входить документы, соответствующие одному запросу. Функция, считающая градиент и гессиан по данным, должна знать данное разбиение датасета. Однако питоновский интерфейс класса *DMatrix* (в котором хранится датасет) не дает возможности получить это разбиение. В этом случае нужно реализовать функцию потерь в качестве функтора, конструктор которого принимает разбиение на группы в качестве параметра.\n",
    "\n",
    "Пример реализации своей функции потерь можно найти на соответствующем семинаре."
   ]
  },
  {
   "cell_type": "markdown",
   "metadata": {},
   "source": [
    "Заметим, что для подсчета градиента по i-ому предсказанию нам нужно рассматривать только группу, в которой лежит i-ый объект, так как с объектами из остальных групп он не сравним. Если посмотреть на функцию потерь, то можно понять, что производная по предсказанию для объекта i - это сумма экспонент вида $e^{a(x_i) - a(x_j)}$, если $y_i < y_j$,  и $-e^{a(x_j) - a(x_i)}$, если $y_i > y_j$. "
   ]
  },
  {
   "cell_type": "code",
   "execution_count": 158,
   "metadata": {
    "collapsed": true
   },
   "outputs": [],
   "source": [
    "class ExponentialPairwiseLoss(object):\n",
    "    def __init__(self, groups):\n",
    "        self.groups = groups\n",
    "                        \n",
    "    def __call__(self, preds, dtrain):\n",
    "        true_labels = dtrain.get_label()\n",
    "        begin_group = np.hstack(([0], np.cumsum(self.groups)))\n",
    "        grads = np.zeros_like(preds)\n",
    "        hess = np.zeros_like(preds)\n",
    "        for k, group in enumerate(self.groups):\n",
    "            for i in range(begin_group[k], begin_group[k+1]):\n",
    "                for j in range(i + 1, begin_group[k+1]):\n",
    "                    if true_labels[i] == true_labels[j]:\n",
    "                        continue\n",
    "                    elif true_labels[i] < true_labels[j]:\n",
    "                        value = np.exp(preds[i] - preds[j])\n",
    "                        grads[i] += value\n",
    "                        grads[j] -= value\n",
    "                    else:\n",
    "                        value = np.exp(preds[j] - preds[i])\n",
    "                        grads[j] += value\n",
    "                        grads[i] -= value\n",
    "                    hess[i] += value\n",
    "                    hess[j] += value\n",
    "        \n",
    "        return grads, hess"
   ]
  },
  {
   "cell_type": "markdown",
   "metadata": {},
   "source": [
    "Обучаемся с данной функцией потерь."
   ]
  },
  {
   "cell_type": "code",
   "execution_count": 160,
   "metadata": {},
   "outputs": [
    {
     "name": "stdout",
     "output_type": "stream",
     "text": [
      "nDCG on validate data: 0.876113\n",
      "nDCG on test data: 0.869494\n"
     ]
    }
   ],
   "source": [
    "params =  {\"booster\" : \"gbtree\",\n",
    "         \"eval_metric\" : \"ndcg\",\n",
    "              \"eta\": 0.1,\n",
    "              \"max_depth\" : 6,\n",
    "          \"nthread\": 4}\n",
    "\n",
    "xgtrain = DMatrix(X_train, label=y_train)\n",
    "xgtrain.set_group(groups_train)\n",
    "\n",
    "xgtest = DMatrix(X_test, label=y_test)\n",
    "xgtest.set_group(groups_test)\n",
    "\n",
    "xgvalidate = DMatrix(X_valid, label=y_valid)\n",
    "xgvalidate.set_group(groups_valid)\n",
    "\n",
    "bst = xgb.train(params, xgtrain, obj=ExponentialPairwiseLoss(groups_train), num_boost_round=100)\n",
    "\n",
    "print(\"nDCG on validate data: {}\".format(bst.eval(xgvalidate).split(':')[1]))\n",
    "print(\"nDCG on test data: {}\".format(bst.eval(xgtest).split(':')[1]))"
   ]
  },
  {
   "cell_type": "markdown",
   "metadata": {},
   "source": [
    "**(1 балл) Задание 13.** Сравните построенные модели с точки зрения метрики nDCG на контроле и проанализируйте полученные результаты:\n",
    "  - какая модель работает лучше всего для данной задачи? \n",
    "  - в чем достоинства/недостатки каждой? \n",
    "  - сравните модели между собой: \n",
    "   - получается ли сравнимое качество линейного pointwise подхода с остальными моделями? \n",
    "   - заметна ли разница в качестве при использовании бустинга с разными функциями потерь?"
   ]
  },
  {
   "cell_type": "markdown",
   "metadata": {
    "collapsed": true
   },
   "source": [
    "Получили, что модель с экспоненциальной функцией потерь дает качество не хуже, чем другие ранее рассмотренные модели. (даже если сравнивать с моделью с подобранными параметрами).  Из минусов: в силу сложности функцией потерь и зависимости суммы от индексов, градиент считается довольно долго, что сильно замедляет обучение. <br>\n",
    "Также немного поподбирав параметры были найдены оптимальные параметры для кол-ва итераций, learning rate и глубины дерева : 100, 0.1, 6. Недостаток 100 итераций, конечно, понятен : обучается в разы дольше. В принципе и при 10 итерациях данная модель дает результат не сильно хуже, хотя работает в разы быстрей.\n",
    "\n",
    "Разница при использовании разных функций потерь, как можно было видеть ранее, заметна, но все модели получились сравнимыми по качеству. Также модели с разными функциями потерь работают немного разное время. <br>\n",
    "Модель с reg:linear оказалась не сильно хуже остальных и на тесте даже чуть лучше некоторых остальных."
   ]
  },
  {
   "cell_type": "code",
   "execution_count": null,
   "metadata": {
    "collapsed": true
   },
   "outputs": [],
   "source": []
  }
 ],
 "metadata": {
  "kernelspec": {
   "display_name": "Python 3",
   "language": "python",
   "name": "python3"
  },
  "language_info": {
   "codemirror_mode": {
    "name": "ipython",
    "version": 3
   },
   "file_extension": ".py",
   "mimetype": "text/x-python",
   "name": "python",
   "nbconvert_exporter": "python",
   "pygments_lexer": "ipython3",
   "version": "3.6.6"
  }
 },
 "nbformat": 4,
 "nbformat_minor": 1
}
