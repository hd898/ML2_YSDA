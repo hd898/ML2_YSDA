{
 "cells": [
  {
   "cell_type": "markdown",
   "metadata": {},
   "source": [
    "# Лабораторная работа 4. Рекомендательные системы, категориальные признаки и адаптивные методы обучения\n",
    "\n",
    "Результат лабораторной работы − отчет. Мы предпочитаем принимать отчеты в формате ноутбуков IPython (ipynb-файл). Постарайтесь сделать ваш отчет интересным рассказом, последовательно отвечающим на вопросы из заданий. Помимо ответов на вопросы, в отчете также должен быть код, однако чем меньше кода, тем лучше всем: нам − меньше проверять, вам — проще найти ошибку или дополнить эксперимент. При проверке оценивается четкость ответов на вопросы, аккуратность отчета и кода.\n",
    "\n",
    "### Оценивание и штрафы\n",
    "Каждая из задач имеет определенную «стоимость» (указана в скобках около задачи). Максимально допустимая оценка за работу — 15 баллов. Сдавать задание после указанного срока сдачи нельзя. «Похожие» решения считаются плагиатом и все задействованные студенты (в том числе те, у кого списали) не могут получить за него больше 0 баллов и понижают карму (подробнее о плагиате см. на странице курса). Если вы нашли решение какого-то из заданий в открытом источнике, необходимо прислать ссылку на этот источник (скорее всего вы будете не единственным, кто это нашел, поэтому чтобы исключить подозрение в плагиате, нам необходима ссылка на источник).\n",
    "\n",
    "### Правила сдачи\n",
    "Выполненную работу следует отправить в систему Anytask. Более подробно о системе можно почитать на странице курса. Название отправляемого файла должно иметь следующий формат: Surname_Name_Group_NN.ipynb, где NN — номер лабораторной работы. Например, Kozlova_Anna_CS_03.ipynb."
   ]
  },
  {
   "cell_type": "markdown",
   "metadata": {},
   "source": [
    "## Рекомендательные системы и категориальные признаки"
   ]
  },
  {
   "cell_type": "markdown",
   "metadata": {},
   "source": [
    "В этой части лабораторной работы мы рассмотрим и сравним несколько различных стратегий для решения задачи рекоммендаций:\n",
    "- Most popular\n",
    "- Memory based\n",
    "- Matrix factorization\n",
    "- Categorical features based approach\n",
    "- Statistics features based approach\n",
    "\n",
    "Вам нужно будет провести много экспериментов, поэтому приготовьтесь.\n",
    "\n",
    "![](https://i.imgur.com/jwyaLjP.jpg)\n",
    "\n",
    "### Про данные\n",
    "\n",
    "В этой лабораторной работе будет рассмотрена задача предсказания оценки, которую пользователь поставит фильму. Особенность этой задачи в том, что объекты выборки описываются категориальными признаками, принимающими большое число значений (например: идентификатор пользователя, идентификатор фильма, тэги, киноперсоны).\n",
    "\n",
    "Мы будем работать с датасетом [MovieLens + IMDb/Rotten Tomatoes](http://files.grouplens.org/datasets/hetrec2011/hetrec2011-movielens-2k-v2.zip) ([описание](http://files.grouplens.org/datasets/hetrec2011/hetrec2011-movielens-readme.txt)). Набор содержит данные о предпочтениях пользователей сервиса рекомендации кинофильмов [MovieLens](http://www.movielens.org/). Пользовательские оценки для фильмов принимают целые значения в интервале от 1 до 5, они записаны в файле *user_ratedmovies.dat* (а так же в *user_ratedmovies-timestamps.dat*,  где для каждой оценки дата и время записаны в формате timestamp), остальные файлы содержат дополнительную информацию о фильмах, которую можно использовать в качестве признаков.\n",
    "Заметьте: кроме оценок (и тегов), которые пользователь поставил фильмам, про пользователя ничего не известно.\n",
    "\n",
    "На основании этих данных необходимо построить модель, предсказывающую оценку пользователя фильму, который он еще не смотрел."
   ]
  },
  {
   "cell_type": "markdown",
   "metadata": {},
   "source": [
    "### Про оценку качества рекомендаций\n",
    "\n",
    "Выберем некоторого пользователя $u$ и обозначим известные для него рейтинги за $R^u$. В качестве тестовых рейтингов этого пользователя $R^u_{test}$ рассмотрим три рейтинга, поставленные последними по времени. Остальные известные рейтинги будут составлять обучающую выборку $R^u_{train}$. Тогда все известные рейтинги можно представить как $R^u=R^u_{train}\\cup R^u_{test}$. Отсутствующие оценки обозначим за $R^u_{unknown}$. \n",
    "\n",
    "Для измерения качества рекомендаций в этой лабораторной работе используйте две метрики RMSE и MAP, описанные ниже.\n",
    "\n",
    "#### RMSE\n",
    "\n",
    "Метрика [RMSE](https://en.wikipedia.org/wiki/Root-mean-square_deviation) вычисляется следующим образом:\n",
    "$$ RMSE = \\sqrt{ \\frac{1}{\\left|R_{test}\\right|} \\sum_{(u,i) \\in R_{test}} (r_{ui} - \\hat{r}_{ui})^2 },$$\n",
    "где $r_{ui}$ — наблюдаемая (правильная) оценка, а $\\hat{r}_{ui}$ — оценка, предсказанная моделью.\n",
    "\n",
    "Метрика RMSE предназначена для оценки точности предсказания, ее удобно оптимизировать напрямую. Однако, нужно учесть, что RMSE не лучший кандидат для оценки качества рекомендаций:\n",
    "- Во-первых, RMSE оценивает точность предсказания рейтингов, что в задачах рекомендаций, как правило, менее важно, нежели верное ранжирование объектов (безотносительно абсолютных значений рейтингов). На практике часто бывает, что алгоритмы с худшим RMSE в продакшене работают лучше, чем алгоритмы с меньшим значением RMSE. Например, при использовании моделей рекомендаций на основе матричных разложений, заполнение отсутствующих оценок нулями имеет имеет худшее значение RMSE, чем если бы эти оценки не учитывались совсем, но при этом часто сами рекомендации становятся лучше по онлайн метрикам. \n",
    "- Во-вторых, RMSE одинаково штрафует точность предсказания оценок более популярных фильмов (которые попадут в блок рекомендаций) и менее популярных фильмов (длинный хвост из нерелевантных фильмов).\n",
    "\n",
    "#### MAP\n",
    "\n",
    "Для оценки качества рекомендаций можно использовать метрики качества ранжирования. В этом случае для каждого пользователя $u$ предскажем оценку для всех фильмов из $R^u_{test}$ и $R^u_{unknown}$ и отсортируем эти фильмы по убыванию предсказанного рейтинга. Ожидается, что хороший алгоритм должен выдать релевантные фильмы вверху списка. Обозначим позиции объектов в этом списке за $k^u_i$.\n",
    "\n",
    "Назовем релевантными те фильмы, которые входят в $R^u_{test}$ и имеют оценку $\\ge 3$. Обозначим их за $Rel^u$. Тогда можно вычислить следующую метрику качества рекомендаций для одного пользователя:\n",
    "\n",
    "$$AP^u=\\frac{1}{|Rel^u|} \\sum_{(u,i) \\in Rel^u} \\frac{1}{k^u_i}.$$\n",
    "\n",
    "Усреднив значение этой метрики по всем пользователями, мы получим окончательное значение метрики MAP. Пользователей без релевантных фильмов в тестовой выборке можно не учитывать.\n",
    "\n",
    "#### Другие способы оценки качества рекомендаций\n",
    "\n",
    "На практике, как правило, качество рекомендательных систем оценивается в онлайне с помощью [A/B-тестирования](https://en.wikipedia.org/wiki/A/B_testing)."
   ]
  },
  {
   "cell_type": "markdown",
   "metadata": {},
   "source": [
    "## Коллаборативная фильтрация"
   ]
  },
  {
   "cell_type": "markdown",
   "metadata": {},
   "source": [
    "- Загрузите данные и создайте разреженную матрицу оценок, где на пересечении $i$-ой строки и $j$-ого столбца стоит рейтинг, который пользователь под номером $i$ поставил фильму под номером $j$, если рейтинг известен, либо ноль, если неизвестен.\n",
    "- Разбейте данные на обучающую и тестовую выборки. В качестве тестовых рейтингов для каждого пользователя возьмите три рейтинга, поставленные последними по времени. Остальные известные рейтинги будут составлять обучающую выборку."
   ]
  },
  {
   "cell_type": "code",
   "execution_count": 2,
   "metadata": {},
   "outputs": [],
   "source": [
    "import numpy as np\n",
    "import pandas as pd\n",
    "import matplotlib.pyplot as plt\n",
    "import sklearn\n"
   ]
  },
  {
   "cell_type": "code",
   "execution_count": 3,
   "metadata": {},
   "outputs": [],
   "source": [
    "directory = 'hetrec2011-movielens-2k-v2'\n",
    "data1 = pd.read_csv(directory +'/user_ratedmovies-timestamps.dat', sep='\\t')\n",
    "data2 = pd.read_csv(directory +'/movie_actors.dat', sep='\\t', encoding='latin1')\n",
    "data3 = pd.read_csv(directory +'/movie_countries.dat', sep='\\t', encoding='latin1')\n",
    "data4 = pd.read_csv(directory +'/movie_directors.dat', sep='\\t', encoding='latin1')\n",
    "data5 = pd.read_csv(directory +'/movie_genres.dat', sep='\\t', encoding='latin1')\n",
    "data6 = pd.read_csv(directory +'/movie_locations.dat', sep='\\t', encoding='latin1')\n",
    "\n",
    "data7 = pd.read_csv(directory +'/movie_tags.dat', sep='\\t', encoding='latin1')\n",
    "data8 = pd.read_csv(directory +'/movies.dat', sep='\\t', encoding='latin1')\n",
    "data9 = pd.read_csv(directory +'/tags.dat', sep='\\t', encoding='latin1')\n",
    "data10 = pd.read_csv(directory +'/user_taggedmovies-timestamps.dat', encoding='latin1', sep='\\t')"
   ]
  },
  {
   "cell_type": "markdown",
   "metadata": {},
   "source": [
    "составим из этого всего словарик по фильмам и матрицу пользователь - фильм\n",
    "\n",
    "data6 не буру - это локации, в которых снимались фильмы - ну, кажется, не сильно важно.\n",
    "\n",
    "data7 тоже не рассматриваю - это теги. Их чуть меньше, чем фильмов, поэтому врядли они информативны. Кроме того, я не понимаю, что это\n",
    "\n",
    "data9 - тоже не беру - не понятно, что такое теги и как они должны влиять\n",
    "\n",
    "data8 - беру 4 оценки - оценка критиков, кол-во критиков, оценка аудитории и кол-ва человек в аудитории. Отсюда также беру год фильма\n",
    "\n",
    "data10 - опять теги ("
   ]
  },
  {
   "cell_type": "code",
   "execution_count": 4,
   "metadata": {},
   "outputs": [],
   "source": [
    "from collections import defaultdict\n",
    "\n",
    "films_meta = defaultdict(lambda : dict())\n",
    "\n",
    "for i in range(len(data2)):\n",
    "    if 'actors' in films_meta[data2.iloc[i].movieID].keys():\n",
    "        films_meta[data2.iloc[i].movieID]['actors'] += [(data2.iloc[i].actorID, data2.iloc[i].ranking)]\n",
    "    else:\n",
    "        films_meta[data2.iloc[i].movieID]['actors'] = [(data2.iloc[i].actorID, data2.iloc[i].ranking)]\n",
    "     "
   ]
  },
  {
   "cell_type": "code",
   "execution_count": 8,
   "metadata": {},
   "outputs": [],
   "source": [
    "for i in range(len(data3)):\n",
    "    films_meta[data3.iloc[i].movieID]['country'] = data3.iloc[i].country\n",
    "\n",
    "for i in range(len(data4)):\n",
    "    films_meta[data4.iloc[i].movieID]['director'] = data4.iloc[i].directorID\n",
    "    \n",
    "unique_genres = np.unique(data5.genre)\n",
    "dict_id_genres = dict(zip(unique_genres, np.arange(len(unique_genres))))\n",
    "\n",
    "for i in range(len(data5)):\n",
    "    films_meta[data5.iloc[i].movieID]['genre'] = dict_id_genres[data5.iloc[i].genre]\n",
    "    \n",
    "for i in range(len(data8)):\n",
    "    scores_array = np.array([data8.iloc[i].rtTopCriticsRating, data8.iloc[i].rtTopCriticsNumReviews, \n",
    "                    data8.iloc[i].rtAudienceRating, data8.iloc[i].rtAudienceNumRatings])\n",
    "    scores_array[scores_array == '\\\\N'] = -1\n",
    "    scores_array = scores_array.astype(float)\n",
    "\n",
    "    films_meta[data8.iloc[i].id]['scores'] = list(scores_array)\n",
    "    films_meta[data8.iloc[i].id]['year'] = int(data8.iloc[i].year)"
   ]
  },
  {
   "cell_type": "markdown",
   "metadata": {},
   "source": [
    "делаем матрицу рейтингов"
   ]
  },
  {
   "cell_type": "code",
   "execution_count": 9,
   "metadata": {},
   "outputs": [],
   "source": [
    "unique_users = np.unique(data1.userID)\n",
    "unique_films = list(films_meta.keys())\n",
    "count_films = len(films_meta.keys())\n",
    "\n",
    "rating_matrix = np.zeros((len(unique_users), len(unique_films)))\n",
    "timestamp_matrix = np.zeros((len(unique_users), len(unique_films)))\n",
    "id_film_to_column = dict(zip(unique_films, np.arange(len(unique_films))))\n",
    "id_user_to_row = dict(zip(unique_users, np.arange(len(unique_users))))\n",
    "column_to_id_film = dict(zip(np.arange(len(unique_films)), unique_films))\n",
    "row_to_id_user = dict(zip(np.arange(len(unique_users)), unique_users))\n",
    "\n",
    "for i in range(len(data1)):\n",
    "    col = id_film_to_column[data1.iloc[i].movieID]\n",
    "    row = id_user_to_row[data1.iloc[i].userID]\n",
    "    rating_matrix[row, col] = data1.iloc[i].rating\n",
    "    timestamp_matrix[row, col] = data1.iloc[i].timestamp\n",
    "    "
   ]
  },
  {
   "cell_type": "markdown",
   "metadata": {},
   "source": [
    "находим тестовую выборку -  для каждого пользователя найдем колонки, которые соответствуют последним выставленным рейтингам."
   ]
  },
  {
   "cell_type": "code",
   "execution_count": 10,
   "metadata": {},
   "outputs": [
    {
     "data": {
      "text/plain": [
       "(2113, 10194)"
      ]
     },
     "execution_count": 10,
     "metadata": {},
     "output_type": "execute_result"
    }
   ],
   "source": [
    "argsort_indeces = np.argsort(timestamp_matrix, axis=-1)\n",
    "test_indeces = argsort_indeces[:,-3:]\n",
    "train_indeces = np.sort(argsort_indeces[:, :-3], axis=-1)\n",
    "train_indeces.shape"
   ]
  },
  {
   "cell_type": "markdown",
   "metadata": {},
   "source": [
    "сделаем маску для быстрого определения где тест, где трейн, а где ничего не известно <br>\n",
    "0 - test, -1 - unknown, 1 - train"
   ]
  },
  {
   "cell_type": "code",
   "execution_count": 11,
   "metadata": {},
   "outputs": [],
   "source": [
    "mask = np.ones(rating_matrix.shape)\n",
    "for i, row in enumerate(test_indeces):\n",
    "    mask[i, row] = 0\n",
    "    mask[i, rating_matrix[i] == 0] = -1"
   ]
  },
  {
   "cell_type": "markdown",
   "metadata": {},
   "source": [
    "Для удобства сделаем словарики : пользователи - тестовые фильмы для пользователя, фильм - тестовые пользователи для него."
   ]
  },
  {
   "cell_type": "code",
   "execution_count": 12,
   "metadata": {},
   "outputs": [],
   "source": [
    "user_test_films = dict(zip(np.arange(rating_matrix.shape[0]), test_indeces))\n",
    "films_test_user = defaultdict(lambda : [])\n",
    "\n",
    "for user, user_films in enumerate(test_indeces):\n",
    "    for film in user_films:\n",
    "        films_test_user[film].append(user)"
   ]
  },
  {
   "cell_type": "markdown",
   "metadata": {},
   "source": [
    "Эх, уже позже поняла, что все это не понадобится:("
   ]
  },
  {
   "cell_type": "markdown",
   "metadata": {},
   "source": [
    "### Most popular\n",
    "\n",
    "**Задание 1 (1 балл)**\n",
    "- Постройте рекоммендации на основе **most popular** метода, при котором пользователям рекомендуются объекты в порядке убываниях их популярности (например, среднего рейтинга).\n",
    "- Оцените качество рекомендаций, вычислив RMSE и MAP."
   ]
  },
  {
   "cell_type": "markdown",
   "metadata": {},
   "source": [
    "Для каждого фильма находим его средний рейтинг среди трейновых данных."
   ]
  },
  {
   "cell_type": "code",
   "execution_count": 12,
   "metadata": {},
   "outputs": [],
   "source": [
    "films_mean_rating = []\n",
    "for film in range(rating_matrix.shape[1]):\n",
    "    sum_rating = np.sum(rating_matrix[:, film])\n",
    "    \n",
    "    test_users = films_test_user[film]\n",
    "    sum_rating -= np.sum(rating_matrix[test_users, film])\n",
    "    count_train = np.sum(mask[:,film] == 1)\n",
    "    \n",
    "    if count_train != 0:\n",
    "        films_mean_rating.append(sum_rating / count_train)\n",
    "    else:\n",
    "        films_mean_rating.append(0)\n",
    "    "
   ]
  },
  {
   "cell_type": "markdown",
   "metadata": {},
   "source": [
    "Напишем функции для подсчета метрик"
   ]
  },
  {
   "cell_type": "code",
   "execution_count": 12,
   "metadata": {},
   "outputs": [],
   "source": [
    "def RMSE(predict_rating):\n",
    "    true_rating = rating_matrix[mask==0]\n",
    "    if predict_rating.shape == rating_matrix.shape:\n",
    "        predict_rating = predict_rating[mask==0]\n",
    "    elif len(predict_rating.shape) > 1:\n",
    "        predict_rating = predict_rating.ravel()\n",
    "        \n",
    "    return np.sqrt(np.mean((true_rating - predict_rating)**2))\n",
    "\n",
    "def MAP(predict_rating):\n",
    "    map_ = 0\n",
    "    count_users = 0\n",
    "    for u in range(rating_matrix.shape[0]):\n",
    "        predict_u = predict_rating[u]\n",
    "        if len(predict_rating[u]) == rating_matrix.shape[1]:\n",
    "            predict_u = predict_rating[u][mask[u] != -1]\n",
    "        \n",
    "        indeces_u = np.where(mask[u] != -1)[0]\n",
    "        indeces_sorted_by_predict = indeces_u[np.argsort(predict_u)]\n",
    "        rel_u = test_indeces[u]\n",
    "        rel_u = rel_u[rating_matrix[u, rel_u] >=3]\n",
    "        if len(rel_u) == 0:\n",
    "            continue\n",
    "        ap_u = 0\n",
    "        for ind in rel_u:\n",
    "            position = np.where(indeces_sorted_by_predict == ind)[0][0] + 1.\n",
    "            ap_u += 1 / position\n",
    "        map_ += ap_u / len(rel_u)\n",
    "        count_users += 1\n",
    "    return map_ / count_users"
   ]
  },
  {
   "cell_type": "code",
   "execution_count": 14,
   "metadata": {},
   "outputs": [],
   "source": [
    "predict_rating = rating_matrix.copy()\n",
    "for film, mean in enumerate(films_mean_rating):\n",
    "    predict_rating[mask[:, film] != 1, film] = mean"
   ]
  },
  {
   "cell_type": "code",
   "execution_count": 15,
   "metadata": {},
   "outputs": [
    {
     "data": {
      "text/plain": [
       "0.9420302620441394"
      ]
     },
     "execution_count": 15,
     "metadata": {},
     "output_type": "execute_result"
    }
   ],
   "source": [
    "RMSE(predict_rating) "
   ]
  },
  {
   "cell_type": "code",
   "execution_count": 16,
   "metadata": {},
   "outputs": [
    {
     "data": {
      "text/plain": [
       "0.032823527642310724"
      ]
     },
     "execution_count": 16,
     "metadata": {},
     "output_type": "execute_result"
    }
   ],
   "source": [
    "MAP(predict_rating)"
   ]
  },
  {
   "cell_type": "markdown",
   "metadata": {},
   "source": [
    "### Memory based\n",
    "\n",
    "Теперь рассмотрим [memory-based](https://en.wikipedia.org/wiki/Collaborative_filtering#Memory-based) методы рекоммендаций.\n",
    "Подход, лежащий в их основе, использует данные о рейтингах для вычисления сходства между пользователями (user-based) или объектами (item-based), на основе этих данных делаются предсказания рейтингов и, в дальнейшем, строятся рекоммендации. Эти методы просты в реализации и эффективны на ранних стадиях разработки рекомендательных систем.\n",
    "\n",
    "Для дальнейшей работы нам понадобится библиотека [Graphlab Create](https://turi.com/products/create/). Чтобы получить доступ до дистрибутива необходима лицензия. Бесплатная лицензия на 1 месяц будет выслана вам на почту после регистрации. Для получения более долгой бесплатной лицензии для использования в академических целях, необходимо заполнить [форму](https://turi.com/download/academic.html).\n",
    "\n",
    "Чтобы установить библиотеку нужно выполнить следующие шаги:\n",
    " - Зарегистрироваться по [ссылке](https://turi.com/download/academic.html). После регистрации получаете лицензию и Product key (эта информация будет продублирована в письме на указанную при регистрации почту). \n",
    " - Далее, сразу после регистрации вы попадаете на страницу, с которой можно скачать дистрибутив для вашей системы и установить его. Либо, после регистрации, можно установить библиотеку через pip командой:"
   ]
  },
  {
   "cell_type": "raw",
   "metadata": {},
   "source": [
    "pip install --upgrade --no-cache-dir https://get.graphlab.com/GraphLab-Create/2.1/your_registered_email_address_here/your_product_key_here/GraphLab-Create-License.tar.gz"
   ]
  },
  {
   "cell_type": "markdown",
   "metadata": {},
   "source": [
    "Подробнее про установку можно так же почитать [здесь](https://turi.com/download/install-graphlab-create-command-line.html)."
   ]
  },
  {
   "cell_type": "markdown",
   "metadata": {},
   "source": [
    "**Задание 2 (1 балл)**\n",
    "- Постройте рекоммендации на основе [item-based](https://turi.com/products/create/docs/generated/graphlab.recommender.item_similarity_recommender.ItemSimilarityRecommender.html) подхода, реализованном в библиотеке Graphlab Create.\n",
    "- Оцените качество рекомендаций в зависимости от выбранной функции похожести *jaccard/cosine/pearson* по каждой из метрик: RMSE, MAP."
   ]
  },
  {
   "cell_type": "markdown",
   "metadata": {},
   "source": [
    "Найдем индексы в датафрейме объектов, которые мы считаем тестовыми."
   ]
  },
  {
   "cell_type": "code",
   "execution_count": 18,
   "metadata": {},
   "outputs": [],
   "source": [
    "true_user_true_test_films = dict()\n",
    "for u in user_test_films.keys():\n",
    "    true_user_true_test_films[row_to_id_user[u]] =  [column_to_id_film[f] for f in user_test_films[u]]\n",
    "    "
   ]
  },
  {
   "cell_type": "code",
   "execution_count": 19,
   "metadata": {},
   "outputs": [],
   "source": [
    "test_indeces_frame = []\n",
    "for row in range(len(data1)):\n",
    "    u = data1.iloc[row].userID\n",
    "    if u in true_user_true_test_films.keys() and data1.iloc[row].movieID in true_user_true_test_films[u]:\n",
    "        test_indeces_frame.append(row)"
   ]
  },
  {
   "cell_type": "markdown",
   "metadata": {},
   "source": [
    "и те, которые считаем трейновыми"
   ]
  },
  {
   "cell_type": "code",
   "execution_count": 20,
   "metadata": {},
   "outputs": [],
   "source": [
    "train_indeces_frame = np.setdiff1d(np.arange(len(data1)), test_indeces_frame)"
   ]
  },
  {
   "cell_type": "markdown",
   "metadata": {},
   "source": [
    "Применяем модель"
   ]
  },
  {
   "cell_type": "code",
   "execution_count": 21,
   "metadata": {},
   "outputs": [],
   "source": [
    "import graphlab\n",
    "from graphlab import SFrame"
   ]
  },
  {
   "cell_type": "code",
   "execution_count": 124,
   "metadata": {},
   "outputs": [
    {
     "data": {
      "text/html": [
       "<pre>Recsys training: model = item_similarity</pre>"
      ],
      "text/plain": [
       "Recsys training: model = item_similarity"
      ]
     },
     "metadata": {},
     "output_type": "display_data"
    },
    {
     "data": {
      "text/html": [
       "<pre>Warning: Ignoring columns timestamp;</pre>"
      ],
      "text/plain": [
       "Warning: Ignoring columns timestamp;"
      ]
     },
     "metadata": {},
     "output_type": "display_data"
    },
    {
     "data": {
      "text/html": [
       "<pre>    To use these columns in scoring predictions, use a model that allows the use of additional features.</pre>"
      ],
      "text/plain": [
       "    To use these columns in scoring predictions, use a model that allows the use of additional features."
      ]
     },
     "metadata": {},
     "output_type": "display_data"
    },
    {
     "data": {
      "text/html": [
       "<pre>Preparing data set.</pre>"
      ],
      "text/plain": [
       "Preparing data set."
      ]
     },
     "metadata": {},
     "output_type": "display_data"
    },
    {
     "data": {
      "text/html": [
       "<pre>    Data has 849259 observations with 2113 users and 10084 items.</pre>"
      ],
      "text/plain": [
       "    Data has 849259 observations with 2113 users and 10084 items."
      ]
     },
     "metadata": {},
     "output_type": "display_data"
    },
    {
     "data": {
      "text/html": [
       "<pre>    Data prepared in: 1.07367s</pre>"
      ],
      "text/plain": [
       "    Data prepared in: 1.07367s"
      ]
     },
     "metadata": {},
     "output_type": "display_data"
    },
    {
     "data": {
      "text/html": [
       "<pre>Training model from provided data.</pre>"
      ],
      "text/plain": [
       "Training model from provided data."
      ]
     },
     "metadata": {},
     "output_type": "display_data"
    },
    {
     "data": {
      "text/html": [
       "<pre>Gathering per-item and per-user statistics.</pre>"
      ],
      "text/plain": [
       "Gathering per-item and per-user statistics."
      ]
     },
     "metadata": {},
     "output_type": "display_data"
    },
    {
     "data": {
      "text/html": [
       "<pre>+--------------------------------+------------+</pre>"
      ],
      "text/plain": [
       "+--------------------------------+------------+"
      ]
     },
     "metadata": {},
     "output_type": "display_data"
    },
    {
     "data": {
      "text/html": [
       "<pre>| Elapsed Time (Item Statistics) | % Complete |</pre>"
      ],
      "text/plain": [
       "| Elapsed Time (Item Statistics) | % Complete |"
      ]
     },
     "metadata": {},
     "output_type": "display_data"
    },
    {
     "data": {
      "text/html": [
       "<pre>+--------------------------------+------------+</pre>"
      ],
      "text/plain": [
       "+--------------------------------+------------+"
      ]
     },
     "metadata": {},
     "output_type": "display_data"
    },
    {
     "data": {
      "text/html": [
       "<pre>| 42.452ms                       | 47.25      |</pre>"
      ],
      "text/plain": [
       "| 42.452ms                       | 47.25      |"
      ]
     },
     "metadata": {},
     "output_type": "display_data"
    },
    {
     "data": {
      "text/html": [
       "<pre>| 71.991ms                       | 100        |</pre>"
      ],
      "text/plain": [
       "| 71.991ms                       | 100        |"
      ]
     },
     "metadata": {},
     "output_type": "display_data"
    },
    {
     "data": {
      "text/html": [
       "<pre>+--------------------------------+------------+</pre>"
      ],
      "text/plain": [
       "+--------------------------------+------------+"
      ]
     },
     "metadata": {},
     "output_type": "display_data"
    },
    {
     "data": {
      "text/html": [
       "<pre>Setting up lookup tables.</pre>"
      ],
      "text/plain": [
       "Setting up lookup tables."
      ]
     },
     "metadata": {},
     "output_type": "display_data"
    },
    {
     "data": {
      "text/html": [
       "<pre>Processing data in one pass using dense lookup tables.</pre>"
      ],
      "text/plain": [
       "Processing data in one pass using dense lookup tables."
      ]
     },
     "metadata": {},
     "output_type": "display_data"
    },
    {
     "data": {
      "text/html": [
       "<pre>+-------------------------------------+------------------+-----------------+</pre>"
      ],
      "text/plain": [
       "+-------------------------------------+------------------+-----------------+"
      ]
     },
     "metadata": {},
     "output_type": "display_data"
    },
    {
     "data": {
      "text/html": [
       "<pre>| Elapsed Time (Constructing Lookups) | Total % Complete | Items Processed |</pre>"
      ],
      "text/plain": [
       "| Elapsed Time (Constructing Lookups) | Total % Complete | Items Processed |"
      ]
     },
     "metadata": {},
     "output_type": "display_data"
    },
    {
     "data": {
      "text/html": [
       "<pre>+-------------------------------------+------------------+-----------------+</pre>"
      ],
      "text/plain": [
       "+-------------------------------------+------------------+-----------------+"
      ]
     },
     "metadata": {},
     "output_type": "display_data"
    },
    {
     "data": {
      "text/html": [
       "<pre>| 365.109ms                           | 0                | 3               |</pre>"
      ],
      "text/plain": [
       "| 365.109ms                           | 0                | 3               |"
      ]
     },
     "metadata": {},
     "output_type": "display_data"
    },
    {
     "data": {
      "text/html": [
       "<pre>| 1.37s                               | 29.25            | 2959            |</pre>"
      ],
      "text/plain": [
       "| 1.37s                               | 29.25            | 2959            |"
      ]
     },
     "metadata": {},
     "output_type": "display_data"
    },
    {
     "data": {
      "text/html": [
       "<pre>| 2.36s                               | 59.25            | 5982            |</pre>"
      ],
      "text/plain": [
       "| 2.36s                               | 59.25            | 5982            |"
      ]
     },
     "metadata": {},
     "output_type": "display_data"
    },
    {
     "data": {
      "text/html": [
       "<pre>| 3.36s                               | 97.75            | 9879            |</pre>"
      ],
      "text/plain": [
       "| 3.36s                               | 97.75            | 9879            |"
      ]
     },
     "metadata": {},
     "output_type": "display_data"
    },
    {
     "data": {
      "text/html": [
       "<pre>| 4.56s                               | 100              | 10084           |</pre>"
      ],
      "text/plain": [
       "| 4.56s                               | 100              | 10084           |"
      ]
     },
     "metadata": {},
     "output_type": "display_data"
    },
    {
     "data": {
      "text/html": [
       "<pre>+-------------------------------------+------------------+-----------------+</pre>"
      ],
      "text/plain": [
       "+-------------------------------------+------------------+-----------------+"
      ]
     },
     "metadata": {},
     "output_type": "display_data"
    },
    {
     "data": {
      "text/html": [
       "<pre>Finalizing lookup tables.</pre>"
      ],
      "text/plain": [
       "Finalizing lookup tables."
      ]
     },
     "metadata": {},
     "output_type": "display_data"
    },
    {
     "data": {
      "text/html": [
       "<pre>Generating candidate set for working with new users.</pre>"
      ],
      "text/plain": [
       "Generating candidate set for working with new users."
      ]
     },
     "metadata": {},
     "output_type": "display_data"
    },
    {
     "data": {
      "text/html": [
       "<pre>Finished training in 4.66885s</pre>"
      ],
      "text/plain": [
       "Finished training in 4.66885s"
      ]
     },
     "metadata": {},
     "output_type": "display_data"
    }
   ],
   "source": [
    "sf_train = SFrame(data=data1.iloc[train_indeces_frame])\n",
    "sf_test = SFrame(data=data1.iloc[test_indeces_frame])\n",
    "\n",
    "model2 = graphlab.recommender.item_similarity_recommender.create(sf_train, user_id='userID', item_id='movieID', target='rating')\n",
    "prediction_test =  model2.predict(sf_test)"
   ]
  },
  {
   "cell_type": "markdown",
   "metadata": {},
   "source": [
    "Заметим, что данный класс возвращает какие-то странные ранги - не те, которые были, у них совсем другой масштаб. Для того, чтоб как-то перевести эти рейтенги в наши я умножила на 12. Посчитаем RMSE. "
   ]
  },
  {
   "cell_type": "code",
   "execution_count": 156,
   "metadata": {},
   "outputs": [
    {
     "data": {
      "text/plain": [
       "2.108200696116592"
      ]
     },
     "execution_count": 156,
     "metadata": {},
     "output_type": "execute_result"
    }
   ],
   "source": [
    "RMSE(np.array(prediction_test) * 12)"
   ]
  },
  {
   "cell_type": "markdown",
   "metadata": {},
   "source": [
    "RMSE получился похуже"
   ]
  },
  {
   "cell_type": "markdown",
   "metadata": {},
   "source": [
    "Для того, чтобы посчитать MAP нам нужно предсказать не только тест, но и пропущенные элементы."
   ]
  },
  {
   "cell_type": "code",
   "execution_count": 46,
   "metadata": {},
   "outputs": [],
   "source": [
    "from itertools import product\n",
    "all_product = np.array(list(product(list(id_user_to_row.keys()), list(id_film_to_column.keys()))))"
   ]
  },
  {
   "cell_type": "code",
   "execution_count": 55,
   "metadata": {},
   "outputs": [],
   "source": [
    "test_frame = pd.DataFrame({'movieID' : all_product[:,1], 'userID' : all_product[:,0]})\n",
    "sf_full_test = SFrame(data=test_frame)\n",
    "full_prediction = np.array(model.predict(sf_full_test))\n",
    "\n",
    "full_predict_matrix = np.zeros(rating_matrix.shape)\n",
    "\n",
    "for i in range(len(test_frame)):\n",
    "    col = id_film_to_column[test_frame.iloc[i].movieID]\n",
    "    row = id_user_to_row[test_frame.iloc[i].userID]\n",
    "    full_predict_matrix[row, col] = full_prediction[i]\n",
    "    "
   ]
  },
  {
   "cell_type": "code",
   "execution_count": 97,
   "metadata": {},
   "outputs": [
    {
     "data": {
      "text/plain": [
       "0.6050759780148592"
      ]
     },
     "execution_count": 97,
     "metadata": {},
     "output_type": "execute_result"
    }
   ],
   "source": [
    "full_predict_matrix[mask==1] = rating_matrix[mask==1]\n",
    "MAP(full_predict_matrix)"
   ]
  },
  {
   "cell_type": "markdown",
   "metadata": {},
   "source": [
    "Видим, что мы получили значение MAP гораздо лучше, чем в предыдущем пункте."
   ]
  },
  {
   "cell_type": "markdown",
   "metadata": {},
   "source": [
    "### Matrix factorization\n",
    "\n",
    "**Задание 3 (1 балл)**\n",
    "- Разложите матрицу рейтингов с помощью [разреженного SVD](http://scikit-learn.org/stable/modules/generated/sklearn.decomposition.TruncatedSVD.html) и, восстановив ее, получите предсказания рейтингов для всех пар пользователь-объект. В данном случае неизвестные рейтинги заполняются нулями, а затем восстанавливаются с помощью SVD (этот метод называется PureSVD).\n",
    "- Рассмотрите, как минимум, 5 различных значений ранга разложения. Оцените качество рекомендаций, используя описанные выше метрики: RMSE, MAP. Для обеих метрик постройте графики зависимости качества алгоритма от выбранного ранга разложения."
   ]
  },
  {
   "cell_type": "code",
   "execution_count": 2,
   "metadata": {},
   "outputs": [],
   "source": [
    "from sklearn.decomposition import TruncatedSVD"
   ]
  },
  {
   "cell_type": "code",
   "execution_count": 13,
   "metadata": {},
   "outputs": [],
   "source": [
    "train_matrix = rating_matrix.copy()\n",
    "train_matrix[mask==0] = 0"
   ]
  },
  {
   "cell_type": "code",
   "execution_count": 14,
   "metadata": {},
   "outputs": [],
   "source": [
    "def SVD(rank):\n",
    "    svd = TruncatedSVD(n_components=rank)\n",
    "    transformed = svd.fit_transform(train_matrix)\n",
    "    predict_rating = svd.inverse_transform(transformed)\n",
    "    rmse = RMSE(predict_rating) \n",
    "    map_score = MAP(predict_rating)\n",
    "    return rmse, map_score"
   ]
  },
  {
   "cell_type": "code",
   "execution_count": 17,
   "metadata": {},
   "outputs": [
    {
     "name": "stdout",
     "output_type": "stream",
     "text": [
      "Rank 5, rmse = 3.196946929156671, map = 0.06421760644245772\n",
      "Rank 8, rmse = 3.1582124155057154, map = 0.06376285186891803\n",
      "Rank 10, rmse = 3.1486503607723586, map = 0.0638777555715614\n",
      "Rank 13, rmse = 3.1357576411011245, map = 0.06378880749875869\n",
      "Rank 15, rmse = 3.1313049812956875, map = 0.0642390779830287\n",
      "Rank 20, rmse = 3.1219856260467083, map = 0.0668524631274258\n",
      "Rank 25, rmse = 3.115478459439731, map = 0.06767010922977802\n",
      "Rank 30, rmse = 3.1113899747297666, map = 0.07084044070101532\n",
      "Rank 50, rmse = 3.1144944512648736, map = 0.084658509341529\n",
      "Rank 75, rmse = 3.132764047426266, map = 0.10105361088828713\n"
     ]
    }
   ],
   "source": [
    "ranks = [5, 8, 10, 13, 15, 20, 25, 30, 50, 75]\n",
    "rmses = []\n",
    "maps = []\n",
    "\n",
    "for r in ranks:\n",
    "    rmse, map_score = SVD(rank=r)\n",
    "    rmses.append(rmse)\n",
    "    maps.append(map_score)\n",
    "    print('Rank {}, rmse = {}, map = {}'.format(r, rmse, map_score))"
   ]
  },
  {
   "cell_type": "code",
   "execution_count": 41,
   "metadata": {},
   "outputs": [
    {
     "name": "stdout",
     "output_type": "stream",
     "text": [
      "Rank 5, rmse = 3.1969420861132343, map = 0.0642173964017873\n",
      "Rank 8, rmse = 3.1582071481261997, map = 0.06369848312484808\n",
      "Rank 10, rmse = 3.148629145500639, map = 0.06423133872762199\n",
      "Rank 13, rmse = 3.1358303459609096, map = 0.06380941952310168\n",
      "Rank 15, rmse = 3.1315993137821536, map = 0.06420264528514211\n",
      "Rank 20, rmse = 3.122716139379541, map = 0.06678781112737814\n",
      "Rank 25, rmse = 3.115320446165554, map = 0.06929985943012686\n",
      "Rank 30, rmse = 3.110365394232444, map = 0.07136864114479737\n",
      "Rank 50, rmse = 3.1154801345696734, map = 0.08547390073108362\n",
      "Rank 75, rmse = 3.1313266069476486, map = 0.0984468629206858\n",
      "Rank 100, rmse = 3.1519918597497294, map = 0.11534542438841387\n",
      "Rank 120, rmse = 3.170447939958273, map = 0.1301658781550836\n",
      "Rank 140, rmse = 3.1869528627369497, map = 0.14445447140568837\n",
      "Rank 160, rmse = 3.205013892069199, map = 0.15615084357179487\n"
     ]
    }
   ],
   "source": [
    "ranks = [5, 8, 10, 13, 15, 20, 25, 30, 50, 75, 100, 120, 140, 160]\n",
    "rmses = []\n",
    "maps = []\n",
    "\n",
    "for r in ranks:\n",
    "    rmse, map_score = SVD(rank=r)\n",
    "    rmses.append(rmse)\n",
    "    maps.append(map_score)\n",
    "    print('Rank {}, rmse = {}, map = {}'.format(r, rmse, map_score))"
   ]
  },
  {
   "cell_type": "code",
   "execution_count": 42,
   "metadata": {},
   "outputs": [
    {
     "data": {
      "image/png": "[encoded data removed]",
      "text/plain": [
       "<Figure size 1080x504 with 2 Axes>"
      ]
     },
     "metadata": {
      "needs_background": "light"
     },
     "output_type": "display_data"
    }
   ],
   "source": [
    "import matplotlib.pyplot as plt\n",
    "\n",
    "\n",
    "plt.figure(figsize=(15, 7))\n",
    "plt.subplot(1, 2, 1)\n",
    "plt.plot(ranks, rmses)\n",
    "plt.grid(ls=':')\n",
    "plt.title('rmse')\n",
    "\n",
    "plt.subplot(1, 2, 2)\n",
    "plt.plot(ranks, maps)\n",
    "plt.title('map')\n",
    "plt.grid(ls=':')\n",
    "plt.show()"
   ]
  },
  {
   "cell_type": "code",
   "execution_count": 34,
   "metadata": {},
   "outputs": [
    {
     "data": {
      "image/png": "[encoded data removed]",
      "text/plain": [
       "<Figure size 1080x504 with 2 Axes>"
      ]
     },
     "metadata": {
      "needs_background": "light"
     },
     "output_type": "display_data"
    }
   ],
   "source": [
    "import matplotlib.pyplot as plt\n",
    "\n",
    "\n",
    "plt.figure(figsize=(15, 7))\n",
    "plt.subplot(1, 2, 1)\n",
    "plt.plot(ranks, rmses)\n",
    "plt.grid(ls=':')\n",
    "plt.title('rmse')\n",
    "\n",
    "plt.subplot(1, 2, 2)\n",
    "plt.plot(ranks, maps)\n",
    "plt.title('map')\n",
    "plt.grid(ls=':')\n",
    "plt.show()"
   ]
  },
  {
   "cell_type": "markdown",
   "metadata": {},
   "source": [
    "- На основании полученных данных ответьте на вопросы: как значение ранга влияет на метрики и почему именно так?"
   ]
  },
  {
   "cell_type": "markdown",
   "metadata": {},
   "source": [
    "При матричном разложении в рекомендательных системах мы говорим про то, что мы вводим некоторые темы и раскладываем нашу исходную матрицу рейтингов на 3 : матрицу распределения пользователей по темам, матрицу распределения тем и матрицу распредления фильмов по темам. Таким образом, кол-во компонент, на которое мы раскладываем - это кол-во тем, которое мы выбираем. В данном случае скорей всего темы будут неплохо напоминать жанры. <br>\n",
    "Теперь посмотрим на графики. Видим, что для улучшения RMSE хорошо подходит разложение примерно на 30 тем. А вот для метрики MAP, которая смотрит не на то, какой рейтинг поставить, а в каком порядке предложить, 30 тем уже не достаточно. Кажется, что так произошло по следующей причине :  для минимизации RMSE достаточно для данного пользователя, который любит определенный жанр, поставить высокий и одинаковый рейтинг всем фильмам с этим жанром. А вот для максимизации MAP нужно еще уметь и отранжировать фильмы моего любимого жанра и поставить им все-таки разные оценки. Поэтому нужно в разы больше тем. (ну для остальных жанров также)"
   ]
  },
  {
   "cell_type": "markdown",
   "metadata": {},
   "source": [
    "**Задание 4 (2 балла)** В пакете GraphLab Create также есть встроенный алгоритм рекомендации  [RankingFactorizationRecommender](https://turi.com/products/create/docs/generated/graphlab.recommender.ranking_factorization_recommender.RankingFactorizationRecommender.html) ([о том как его использовать](https://turi.com/products/create/docs/generated/graphlab.recommender.ranking_factorization_recommender.create.html#graphlab.recommender.ranking_factorization_recommender.create)). Проведите эксперименты из предыдущего задания для этого алгоритма рекомендаций, рассмотрев как влияют различные параметры на результат (поэкспериментируйте, как минимум, с 3 параметрами). Сравните результаты экспериментов с полученными ранее результатами.\n",
    "\n",
    "Описание параметров алгоритма можно найти [здесь](https://turi.com/products/create/docs/generated/graphlab.recommender.ranking_factorization_recommender.create.html). Мы рекомендуем при проведении экспериментов обратить внимание на некоторые из следующих параметров:\n",
    " - binary_target\n",
    " - num_factors\n",
    " - ranking_regularization\n",
    " - unobserved_rating_value\n",
    " - num_sampled_negative_examples"
   ]
  },
  {
   "cell_type": "markdown",
   "metadata": {},
   "source": [
    "GraphLab перестал работать и забрал за собой весь питон( <br>\n",
    "Поэтому чиним питон и переходим к следующему заданию."
   ]
  },
  {
   "cell_type": "markdown",
   "metadata": {},
   "source": [
    "### Сategorical features based approach\n",
    "\n",
    "В этой части задания мы рассмотрим подход к рекоммендациям на основе категориальных разреженных признаков. В данном случае это id-пользователя и id-фильма, а также вам будет необходимо добавить один или несколько признаков из имеющихся данных, например: жанр фильма, киноперсоны из фильма, последний оцененный пользователем фильм, средняя оценка пользователя, ...\n",
    "\n",
    "Для выбранного набора/наборов признаков будет необходимо построить рекомендательные системы, используя библиотеки [Vopwal Wabbit](https://github.com/JohnLangford/vowpal_wabbit/wiki) и [LibFM](http://libfm.org). При работе с этими библиотеками не забывайте, что консольные комманды нужно исполнять прямо из ipython-notebook'а, чтобы история ваших запусков сохранилась и проверяющие могли её оценить.\n",
    "\n",
    "#### Разреженные признаки\n",
    "\n",
    "В данной части работы вам необходимо создать разреженную матрицу данных, закодировав каждый из категориальных признаков вектором чисел. Примером может служить следующая иллюстрация добавления различных признаков:\n",
    "\n",
    "![](http://i.imgur.com/7nUMFx5.png)\n",
    "\n",
    "Здесь, для наглядности, вся матрица объект-признак разбита на части, каждая из которых соответствует одному или группе категориальных признаков. Например, часть *User* соответствует закодированному признаку *user_id*, часть *Movie* — признаку *movie_id*, *Other movies rated* содержит в себе оценки пользователя другим фильмам, а *Last movie rated* соответствует признаку \"последний оцененный пользователем фильм\".\n",
    "\n",
    "##### Vowpal Wabbit\n",
    "С этой библиотекой вы знакомились в рамках другой лабораторной работы, где были даны подробне инструкции по ее установке и функциональности.\n",
    "\n",
    "**Задание 5 (2 балла)**\n",
    "- Создайте описанную выше выборку в формате пригодном для обучения модели с помощью Vopwal Wabbit.\n",
    "- Обучите квадратичную модель на полученной выбороке c помощью Vopwal Wabbit.\n",
    "- Посчитайте качество предсказаний: RMSE, MAP."
   ]
  },
  {
   "cell_type": "markdown",
   "metadata": {},
   "source": [
    "Добавим директора фильма и жанр."
   ]
  },
  {
   "cell_type": "code",
   "execution_count": 15,
   "metadata": {},
   "outputs": [],
   "source": [
    "new_data = pd.merge(data1.iloc[:,[0, 1, 2]],  data4.iloc[:,[0, 1]], how='left', on='movieID')\n",
    "new_data = pd.merge(new_data, data5, how='left', on='movieID')\n",
    "new_data.fillna('', inplace=True)"
   ]
  },
  {
   "cell_type": "markdown",
   "metadata": {},
   "source": [
    "Приведем все к нужному формату"
   ]
  },
  {
   "cell_type": "code",
   "execution_count": 16,
   "metadata": {},
   "outputs": [],
   "source": [
    "from sklearn.preprocessing import OneHotEncoder\n",
    "\n",
    "encoder = OneHotEncoder()\n",
    "enc_data = new_data.iloc[:, [0, 1, 3, 4]]\n",
    "tranformed_data = encoder.fit_transform(enc_data).toarray()"
   ]
  },
  {
   "cell_type": "code",
   "execution_count": 18,
   "metadata": {},
   "outputs": [],
   "source": [
    "train_data = tranformed_data[train_indeces_frame]\n",
    "test_data = tranformed_data[test_indeces_frame]\n",
    "\n",
    "y_train = new_data.rating.values[train_indeces_frame]\n",
    "y_test = new_data.rating.values[test_indeces_frame]"
   ]
  },
  {
   "cell_type": "code",
   "execution_count": 19,
   "metadata": {},
   "outputs": [],
   "source": [
    "y_full = new_data.rating.values\n",
    "\n",
    "class_val = {}\n",
    "val_class = {}\n",
    "for i, val in enumerate(list(set(y_full))):\n",
    "    class_val[i+1] = val\n",
    "    val_class[val] = i+1\n",
    "    \n",
    "y_train_dec, y_test_dec = list(map(lambda x: val_class[x], y_train)), list(map(lambda x: val_class[x], y_test))\n",
    "\n",
    "\n",
    "def line_to_vw(line, ans='', namespace='a'):\n",
    "    feat = ':1 '.join(map(str, line.indices)) + ':1'\n",
    "    return '{} |{} {}\\n'.format(ans,namespace,feat)"
   ]
  },
  {
   "cell_type": "markdown",
   "metadata": {},
   "source": [
    "И запишем в файлы для работы"
   ]
  },
  {
   "cell_type": "code",
   "execution_count": 20,
   "metadata": {},
   "outputs": [],
   "source": [
    "def write_vw_format(file, X, y=None):\n",
    "    writer = open(file, 'w')\n",
    "    if y is None:\n",
    "        for line in X:\n",
    "            writer.write(line_to_vw(line))\n",
    "    else:\n",
    "        for line, ans in zip(X,y):\n",
    "            writer.write(line_to_vw(line, ans))\n",
    "    writer.close()"
   ]
  },
  {
   "cell_type": "code",
   "execution_count": 21,
   "metadata": {},
   "outputs": [],
   "source": [
    "write_vw_format('train', train_data, y_train_dec)\n",
    "write_vw_format('test', test_data)"
   ]
  },
  {
   "cell_type": "code",
   "execution_count": 23,
   "metadata": {},
   "outputs": [
    {
     "name": "stdout",
     "output_type": "stream",
     "text": [
      "3 |a 14126:1 12206:1 2215:1 228:1\n",
      "6 |a 14126:1 12206:1 2215:1 979:1\n",
      "7 |a 14126:1 12206:1 2215:1 1446:1\n",
      "5 |a 14126:1 12206:1 2215:1 747:1\n",
      "6 |a 14126:1 12206:1 2215:1 4:1\n",
      "\n"
     ]
    }
   ],
   "source": [
    "!head -n5 train"
   ]
  },
  {
   "cell_type": "code",
   "execution_count": 25,
   "metadata": {},
   "outputs": [
    {
     "name": "stdout",
     "output_type": "stream",
     "text": [
      " |a 15484:1 12199:1 11322:1 228:1\n",
      " |a 15484:1 12199:1 11322:1 1:1\n",
      " |a 15484:1 12199:1 11322:1 1691:1\n",
      " |a 15484:1 12199:1 11322:1 251:1\n",
      " |a 15484:1 12199:1 11322:1 513:1\n"
     ]
    }
   ],
   "source": [
    "!head -n5 test"
   ]
  },
  {
   "cell_type": "code",
   "execution_count": 26,
   "metadata": {},
   "outputs": [
    {
     "name": "stdout",
     "output_type": "stream",
     "text": [
      "\n",
      "creating quadratic features for pairs: aa \n",
      "final_regressor = model\n",
      "Num weight bits = 18\n",
      "learning rate = 0.5\n",
      "initial_t = 0\n",
      "power_t = 0.5\n",
      "using no cache\n",
      "Reading datafile = train\n",
      "num sources = 1\n",
      "average  since         example        example  current  current  current\n",
      "loss     last          counter         weight    label  predict features\n",
      "1.000000 1.000000            1            1.0        3        1       15\n",
      "1.000000 1.000000            2            2.0        6        3       15\n",
      "1.000000 1.000000            4            4.0        5        3       15\n",
      "0.875000 0.750000            8            8.0        7        6       15\n",
      "0.812500 0.750000           16           16.0        6        7       15\n",
      "0.843750 0.875000           32           32.0        3        7       15\n",
      "0.765625 0.687500           64           64.0        6        5       15\n",
      "0.765625 0.765625          128          128.0        4        7       15\n",
      "0.761719 0.757812          256          256.0       10        5       15\n",
      "0.763672 0.765625          512          512.0        7        3       15\n",
      "0.752930 0.742188         1024         1024.0        5       10       15\n",
      "0.760254 0.767578         2048         2048.0        6       10       15\n",
      "0.734863 0.709473         4096         4096.0        6        5       15\n",
      "0.736938 0.739014         8192         8192.0        5        7       15\n",
      "0.730652 0.724365        16384        16384.0        5        6       15\n",
      "0.724823 0.718994        32768        32768.0        4        4       15\n",
      "0.703873 0.682922        65536        65536.0        8        7       15\n",
      "0.702950 0.702026       131072       131072.0        8        5       15\n",
      "0.701859 0.700768       262144       262144.0        5        5       15\n",
      "0.701557 0.701256       524288       524288.0        6        6       15\n",
      "\n",
      "finished run\n",
      "number of examples per pass = 847710\n",
      "passes used = 1\n",
      "weighted example sum = 847710.000000\n",
      "weighted label sum = 0.000000\n",
      "average loss = 0.704490\n",
      "total feature number = 12715650\n"
     ]
    }
   ],
   "source": [
    "! vw -d train -q aa --loss_function logistic --oaa 10 -f model"
   ]
  },
  {
   "cell_type": "code",
   "execution_count": 29,
   "metadata": {},
   "outputs": [
    {
     "name": "stdout",
     "output_type": "stream",
     "text": [
      "creating quadratic features for pairs: aa \n",
      "only testing\n",
      "raw predictions = pred\n",
      "Num weight bits = 18\n",
      "learning rate = 0.5\n",
      "initial_t = 0\n",
      "power_t = 0.5\n",
      "using no cache\n",
      "Reading datafile = test\n",
      "num sources = 1\n",
      "average  since         example        example  current  current  current\n",
      "loss     last          counter         weight    label  predict features\n",
      "1.000000 1.000000            1            1.0  unknown        5       15\n",
      "1.000000 1.000000            2            2.0  unknown        8       15\n",
      "1.000000 1.000000            4            4.0  unknown        4       15\n",
      "1.000000 1.000000            8            8.0  unknown        6       15\n",
      "1.000000 1.000000           16           16.0  unknown        6       15\n",
      "1.000000 1.000000           32           32.0  unknown       10       15\n",
      "1.000000 1.000000           64           64.0  unknown        4       15\n",
      "1.000000 1.000000          128          128.0  unknown        3       15\n",
      "1.000000 1.000000          256          256.0  unknown       10       15\n",
      "1.000000 1.000000          512          512.0  unknown        7       15\n",
      "1.000000 1.000000         1024         1024.0  unknown        7       15\n",
      "1.000000 1.000000         2048         2048.0  unknown        6       15\n",
      "1.000000 1.000000         4096         4096.0  unknown        5       15\n",
      "\n",
      "finished run\n",
      "number of examples per pass = 6336\n",
      "passes used = 1\n",
      "weighted example sum = 6336.000000\n",
      "weighted label sum = 0.000000\n",
      "average loss = 1.000000\n",
      "total feature number = 95040\n"
     ]
    }
   ],
   "source": [
    "! vw -i model -t test -r pred"
   ]
  },
  {
   "cell_type": "markdown",
   "metadata": {},
   "source": [
    "Посмотрим на предсказания"
   ]
  },
  {
   "cell_type": "code",
   "execution_count": 31,
   "metadata": {},
   "outputs": [
    {
     "name": "stdout",
     "output_type": "stream",
     "text": [
      "1:-4.49833 2:-3.69771 3:-3.10162 4:-2.95953 5:-1.16224 6:-2.02457 7:-2.60441 8:-2.05488 9:-5.63841 10:-2.68235\n",
      "1:-4.92347 2:-3.55733 3:-3.52819 4:-4.07402 5:-2.88732 6:-1.27587 7:-3.40709 8:0.666404 9:-6.59659 10:-3.25339\n",
      "1:-5.94203 2:-2.32199 3:-2.99022 4:-2.65575 5:-1.50826 6:-1.64792 7:-1.8422 8:-2.74218 9:-5.719 10:-3.64538\n",
      "1:-6.12905 2:-1.5929 3:-4.72433 4:-0.938805 5:-3.32301 6:-2.0532 7:-1.46273 8:-3.71281 9:-5.14548 10:-3.14067\n",
      "1:-3.11774 2:-4.85997 3:-3.92992 4:-3.51362 5:-1.68983 6:-1.89628 7:-2.21026 8:-1.15879 9:-4.70976 10:-2.16177\n",
      "1:-2.73775 2:-2.59766 3:-3.87783 4:-3.35435 5:-2.21765 6:-1.71773 7:-2.21006 8:-1.95513 9:-5.45706 10:-1.96278\n",
      "1:-4.32519 2:-3.87469 3:-3.54254 4:-2.74432 5:-3.20498 6:-1.46454 7:-1.64464 8:-2.21449 9:-4.92673 10:-2.23626\n",
      "1:-4.87592 2:-4.282 3:-3.67859 4:-2.40939 5:-2.08082 6:-1.72959 7:-1.88687 8:-2.8295 9:-4.78426 10:-2.17187\n",
      "1:-3.86968 2:-2.4546 3:-2.00848 4:-2.05457 5:-2.19581 6:-2.06692 7:-2.6229 8:-2.60148 9:-3.70834 10:-3.61588\n",
      "1:-2.1644 2:-2.05607 3:-2.22273 4:-2.32521 5:-1.92988 6:-2.72802 7:-1.96862 8:-3.40602 9:-3.39188 10:-4.55954\n"
     ]
    }
   ],
   "source": [
    "! head -n 10 pred"
   ]
  },
  {
   "cell_type": "markdown",
   "metadata": {},
   "source": [
    "Перепишем функцию для подсчета RMSE"
   ]
  },
  {
   "cell_type": "code",
   "execution_count": 36,
   "metadata": {},
   "outputs": [],
   "source": [
    "def RMSE_(y_pred, y_true):\n",
    "    return np.sqrt(np.mean((y_pred - y_true) ** 2))"
   ]
  },
  {
   "cell_type": "code",
   "execution_count": 38,
   "metadata": {},
   "outputs": [
    {
     "name": "stdout",
     "output_type": "stream",
     "text": [
      "1.105951958653035\n"
     ]
    }
   ],
   "source": [
    "import re\n",
    "\n",
    "pred_input='pred'\n",
    "n, error, loss = 0, 0, 0\n",
    "reader_pred = open(pred_input, 'r')\n",
    "\n",
    "pred_scores = []\n",
    "\n",
    "for pred in reader_pred:\n",
    "    float_preds = map(float, re.split('\\s*[\\d]+:', pred.strip())[1:])\n",
    "    float_preds = np.array(list(float_preds))\n",
    "\n",
    "    pred = np.argmax(float_preds) + 1\n",
    "    pred_scores.append(pred)\n",
    "\n",
    "pred_scores = list(map(lambda x: class_val[x], pred_scores))\n",
    "rmse = RMSE_(ytest, pred_scores)\n",
    "reader_pred.close()\n",
    "print(rmse)"
   ]
  },
  {
   "cell_type": "markdown",
   "metadata": {},
   "source": [
    "Видим, что RMSE стало в разы меньше, классно!"
   ]
  },
  {
   "cell_type": "markdown",
   "metadata": {},
   "source": [
    "#### libFm\n",
    "\n",
    "Библиотека [libFM](http://libfm.org) реализует общий подход к задачам с категориальными признаками, в основе которого лежат факторизационные машины. В данном дистрибутиве реализованы такие методы как stochastic gradient descent ([SGD](https://en.wikipedia.org/wiki/Stochastic_gradient_descent)), alternating least squares ([ALS](https://arxiv.org/pdf/1206.2493.pdf)), про эти методы вам рассказывали на семинаре, а также Bayesian inference using Markov Chain Monte Carlo ([MCMC](https://en.wikipedia.org/wiki/Markov_chain_Monte_Carlo)). \n",
    "Подробную информацию можно найти в [мануале](http://www.libfm.org/libfm-1.42.manual.pdf).\n",
    "\n",
    "libFm принимает данные в следующем формате:\n",
    "\n",
    "    <target> <feature-id>:<feature-value> <feature-id>:<feature-value> ...\n",
    "\n",
    "Например:\n",
    "\n",
    "    4 0:1.5 3:-7.9\n",
    "    2 1:1e-5 3:2\n",
    "    -1 6:1\n",
    "\n",
    "Если признак не указан, то он считается равным нулю. Таким образом, закодированный категориальный признак можно задать одной записью, например: \n",
    "\n",
    "    <user-id>:1.0\n",
    "    \n",
    "**Задание 6 (2 балла)**\n",
    "- Создайте описанную выше выборку в формате пригодном для LibFM.\n",
    "- Постройте предсказания оценок при помощи факторизационных машин, используя библиотеку LibFM. Выберете наиболее подходящий метод обучения.\n",
    "- Посчитайте качество построенной модели: RMSE, MAP."
   ]
  },
  {
   "cell_type": "code",
   "execution_count": 41,
   "metadata": {},
   "outputs": [],
   "source": [
    "from sklearn.datasets import dump_svmlight_file, load_svmlight_file\n",
    "\n",
    "dump_svmlight_file(train_data, y_train, './train.libsvm')\n",
    "dump_svmlight_file(test_data, y_test, './test.libsvm')"
   ]
  },
  {
   "cell_type": "markdown",
   "metadata": {},
   "source": [
    "MCMC"
   ]
  },
  {
   "cell_type": "code",
   "execution_count": 44,
   "metadata": {
    "scrolled": false
   },
   "outputs": [
    {
     "name": "stdout",
     "output_type": "stream",
     "text": [
      "----------------------------------------------------------------------------\n",
      "libFM\n",
      "  Version: 1.40\n",
      "  Author:  Steffen Rendle, steffen.rendle@uni-konstanz.de\n",
      "  WWW:     http://www.libfm.org/\n",
      "  License: Free for academic use. See license.txt.\n",
      "----------------------------------------------------------------------------\n",
      "Loading train...\t\n",
      "has x = 0\n",
      "has xt = 1\n",
      "num_rows=849259\tnum_values=1698518\tnum_features=12146\tmin_target=0.5\tmax_target=5\n",
      "Loading test... \t\n",
      "has x = 0\n",
      "has xt = 1\n",
      "num_rows=6339\tnum_values=12678\tnum_features=3225\tmin_target=0.5\tmax_target=5\n",
      "#relations: 0\n",
      "Loading meta data...\t\n",
      "#Iter=  0\tTrain=2.01657\tTest=3.08556\n",
      "#Iter=  1\tTrain=0.910358\tTest=2.25829\n",
      "#Iter=  2\tTrain=0.805291\tTest=1.70681\n",
      "#Iter=  3\tTrain=0.798861\tTest=1.45793\n",
      "#Iter=  4\tTrain=0.798074\tTest=1.34018\n",
      "#Iter=  5\tTrain=0.79513\tTest=1.28308\n",
      "#Iter=  6\tTrain=0.787457\tTest=1.25565\n",
      "#Iter=  7\tTrain=0.777755\tTest=1.24301\n",
      "#Iter=  8\tTrain=0.769585\tTest=1.23513\n",
      "#Iter=  9\tTrain=0.762409\tTest=1.2328\n",
      "#Iter= 10\tTrain=0.754881\tTest=1.23186\n",
      "#Iter= 11\tTrain=0.748738\tTest=1.23143\n",
      "#Iter= 12\tTrain=0.743306\tTest=1.23153\n",
      "#Iter= 13\tTrain=0.738695\tTest=1.23109\n",
      "#Iter= 14\tTrain=0.735064\tTest=1.23191\n",
      "#Iter= 15\tTrain=0.731934\tTest=1.23245\n",
      "#Iter= 16\tTrain=0.728798\tTest=1.23233\n",
      "#Iter= 17\tTrain=0.725665\tTest=1.23254\n",
      "#Iter= 18\tTrain=0.722556\tTest=1.23303\n",
      "#Iter= 19\tTrain=0.719091\tTest=1.23301\n",
      "#Iter= 20\tTrain=0.716472\tTest=1.23311\n",
      "#Iter= 21\tTrain=0.71415\tTest=1.23332\n",
      "#Iter= 22\tTrain=0.712699\tTest=1.23298\n",
      "#Iter= 23\tTrain=0.711094\tTest=1.23243\n",
      "#Iter= 24\tTrain=0.710176\tTest=1.2322\n",
      "#Iter= 25\tTrain=0.70908\tTest=1.23172\n",
      "#Iter= 26\tTrain=0.708808\tTest=1.23104\n",
      "#Iter= 27\tTrain=0.708338\tTest=1.23077\n",
      "#Iter= 28\tTrain=0.707928\tTest=1.2301\n",
      "#Iter= 29\tTrain=0.707783\tTest=1.22896\n",
      "#Iter= 30\tTrain=0.707509\tTest=1.22879\n",
      "#Iter= 31\tTrain=0.707653\tTest=1.22829\n",
      "#Iter= 32\tTrain=0.707134\tTest=1.22756\n",
      "#Iter= 33\tTrain=0.706917\tTest=1.22687\n",
      "#Iter= 34\tTrain=0.706652\tTest=1.2261\n",
      "#Iter= 35\tTrain=0.70707\tTest=1.22574\n",
      "#Iter= 36\tTrain=0.70687\tTest=1.22514\n",
      "#Iter= 37\tTrain=0.706796\tTest=1.22416\n",
      "#Iter= 38\tTrain=0.706996\tTest=1.22313\n",
      "#Iter= 39\tTrain=0.70688\tTest=1.2224\n",
      "#Iter= 40\tTrain=0.706641\tTest=1.22169\n",
      "#Iter= 41\tTrain=0.706923\tTest=1.22129\n",
      "#Iter= 42\tTrain=0.70674\tTest=1.22066\n",
      "#Iter= 43\tTrain=0.706672\tTest=1.21989\n",
      "#Iter= 44\tTrain=0.706424\tTest=1.21899\n",
      "#Iter= 45\tTrain=0.70657\tTest=1.21841\n",
      "#Iter= 46\tTrain=0.706619\tTest=1.2177\n",
      "#Iter= 47\tTrain=0.706491\tTest=1.21692\n",
      "#Iter= 48\tTrain=0.706083\tTest=1.21604\n",
      "#Iter= 49\tTrain=0.70644\tTest=1.21497\n",
      "#Iter= 50\tTrain=0.706513\tTest=1.2142\n",
      "#Iter= 51\tTrain=0.706261\tTest=1.21359\n",
      "#Iter= 52\tTrain=0.706389\tTest=1.21286\n",
      "#Iter= 53\tTrain=0.706314\tTest=1.21223\n",
      "#Iter= 54\tTrain=0.706338\tTest=1.21178\n",
      "#Iter= 55\tTrain=0.706056\tTest=1.21125\n",
      "#Iter= 56\tTrain=0.70588\tTest=1.21041\n",
      "#Iter= 57\tTrain=0.705897\tTest=1.20985\n",
      "#Iter= 58\tTrain=0.706012\tTest=1.2093\n",
      "#Iter= 59\tTrain=0.706032\tTest=1.20835\n",
      "#Iter= 60\tTrain=0.706363\tTest=1.20742\n",
      "#Iter= 61\tTrain=0.705859\tTest=1.20695\n",
      "#Iter= 62\tTrain=0.70608\tTest=1.20624\n",
      "#Iter= 63\tTrain=0.705988\tTest=1.20556\n",
      "#Iter= 64\tTrain=0.705975\tTest=1.20494\n",
      "#Iter= 65\tTrain=0.705898\tTest=1.20437\n",
      "#Iter= 66\tTrain=0.706065\tTest=1.20377\n",
      "#Iter= 67\tTrain=0.706055\tTest=1.20323\n",
      "#Iter= 68\tTrain=0.706076\tTest=1.20263\n",
      "#Iter= 69\tTrain=0.705932\tTest=1.20211\n",
      "#Iter= 70\tTrain=0.705981\tTest=1.20177\n",
      "#Iter= 71\tTrain=0.706004\tTest=1.20125\n",
      "#Iter= 72\tTrain=0.705781\tTest=1.20076\n",
      "#Iter= 73\tTrain=0.70591\tTest=1.20024\n",
      "#Iter= 74\tTrain=0.705682\tTest=1.19971\n",
      "#Iter= 75\tTrain=0.705647\tTest=1.19931\n",
      "#Iter= 76\tTrain=0.70571\tTest=1.19891\n",
      "#Iter= 77\tTrain=0.705762\tTest=1.19834\n",
      "#Iter= 78\tTrain=0.705846\tTest=1.1977\n",
      "#Iter= 79\tTrain=0.705847\tTest=1.19719\n",
      "#Iter= 80\tTrain=0.705704\tTest=1.19673\n",
      "#Iter= 81\tTrain=0.705791\tTest=1.19631\n",
      "#Iter= 82\tTrain=0.705844\tTest=1.19597\n",
      "#Iter= 83\tTrain=0.705883\tTest=1.1953\n",
      "#Iter= 84\tTrain=0.705968\tTest=1.19461\n",
      "#Iter= 85\tTrain=0.705935\tTest=1.19397\n",
      "#Iter= 86\tTrain=0.706211\tTest=1.19337\n",
      "#Iter= 87\tTrain=0.70572\tTest=1.1928\n",
      "#Iter= 88\tTrain=0.705946\tTest=1.19245\n",
      "#Iter= 89\tTrain=0.70563\tTest=1.19201\n",
      "#Iter= 90\tTrain=0.70559\tTest=1.19169\n",
      "#Iter= 91\tTrain=0.705657\tTest=1.19128\n",
      "#Iter= 92\tTrain=0.705807\tTest=1.19082\n",
      "#Iter= 93\tTrain=0.705663\tTest=1.19028\n",
      "#Iter= 94\tTrain=0.705532\tTest=1.18985\n",
      "#Iter= 95\tTrain=0.705807\tTest=1.18943\n",
      "#Iter= 96\tTrain=0.70574\tTest=1.18881\n",
      "#Iter= 97\tTrain=0.705848\tTest=1.18832\n",
      "#Iter= 98\tTrain=0.706055\tTest=1.18782\n",
      "#Iter= 99\tTrain=0.705737\tTest=1.18735\n"
     ]
    }
   ],
   "source": [
    "!D:/libs/libfm/libfm-1.40.windows/libFM -task r -train train.libsvm -test test.libsvm -dim '1,1,8' -out ./libfm_mcmc.libsvm"
   ]
  },
  {
   "cell_type": "markdown",
   "metadata": {},
   "source": [
    "ALS"
   ]
  },
  {
   "cell_type": "code",
   "execution_count": 47,
   "metadata": {
    "scrolled": false
   },
   "outputs": [
    {
     "name": "stdout",
     "output_type": "stream",
     "text": [
      "----------------------------------------------------------------------------\n",
      "libFM\n",
      "  Version: 1.40\n",
      "  Author:  Steffen Rendle, steffen.rendle@uni-konstanz.de\n",
      "  WWW:     http://www.libfm.org/\n",
      "  License: Free for academic use. See license.txt.\n",
      "----------------------------------------------------------------------------\n",
      "Loading train...\t\n",
      "has x = 0\n",
      "has xt = 1\n",
      "num_rows=849259\tnum_values=1698518\tnum_features=12146\tmin_target=0.5\tmax_target=5\n",
      "Loading test... \t\n",
      "has x = 0\n",
      "has xt = 1\n",
      "num_rows=6339\tnum_values=12678\tnum_features=3225\tmin_target=0.5\tmax_target=5\n",
      "#relations: 0\n",
      "Loading meta data...\t\n",
      "#Iter=  0\tTrain=0.7522\tTest=1.95688\n",
      "#Iter=  1\tTrain=0.723322\tTest=1.88367\n",
      "#Iter=  2\tTrain=0.7068\tTest=1.8652\n",
      "#Iter=  3\tTrain=0.697416\tTest=1.85935\n",
      "#Iter=  4\tTrain=0.691343\tTest=1.85757\n",
      "#Iter=  5\tTrain=0.68698\tTest=1.858\n",
      "#Iter=  6\tTrain=0.683663\tTest=1.85849\n",
      "#Iter=  7\tTrain=0.681058\tTest=1.85846\n",
      "#Iter=  8\tTrain=0.678973\tTest=1.86005\n",
      "#Iter=  9\tTrain=0.677279\tTest=1.86246\n",
      "#Iter= 10\tTrain=0.675878\tTest=1.86459\n",
      "#Iter= 11\tTrain=0.674703\tTest=1.86691\n",
      "#Iter= 12\tTrain=0.673702\tTest=1.86872\n",
      "#Iter= 13\tTrain=0.67284\tTest=1.87087\n",
      "#Iter= 14\tTrain=0.672089\tTest=1.87329\n",
      "#Iter= 15\tTrain=0.671432\tTest=1.87573\n",
      "#Iter= 16\tTrain=0.670853\tTest=1.87842\n",
      "#Iter= 17\tTrain=0.67034\tTest=1.88085\n",
      "#Iter= 18\tTrain=0.669883\tTest=1.88301\n",
      "#Iter= 19\tTrain=0.669473\tTest=1.885\n",
      "#Iter= 20\tTrain=0.669104\tTest=1.88695\n",
      "#Iter= 21\tTrain=0.668768\tTest=1.88896\n",
      "#Iter= 22\tTrain=0.668462\tTest=1.89069\n",
      "#Iter= 23\tTrain=0.668181\tTest=1.89228\n",
      "#Iter= 24\tTrain=0.667923\tTest=1.8939\n",
      "#Iter= 25\tTrain=0.667685\tTest=1.8955\n",
      "#Iter= 26\tTrain=0.667465\tTest=1.89709\n",
      "#Iter= 27\tTrain=0.667261\tTest=1.89876\n",
      "#Iter= 28\tTrain=0.667072\tTest=1.90031\n",
      "#Iter= 29\tTrain=0.666895\tTest=1.90185\n",
      "#Iter= 30\tTrain=0.666729\tTest=1.90347\n",
      "#Iter= 31\tTrain=0.666573\tTest=1.90516\n",
      "#Iter= 32\tTrain=0.666427\tTest=1.90687\n",
      "#Iter= 33\tTrain=0.666289\tTest=1.90861\n",
      "#Iter= 34\tTrain=0.666158\tTest=1.91036\n",
      "#Iter= 35\tTrain=0.666035\tTest=1.91215\n",
      "#Iter= 36\tTrain=0.665918\tTest=1.91394\n",
      "#Iter= 37\tTrain=0.665808\tTest=1.91572\n",
      "#Iter= 38\tTrain=0.665703\tTest=1.91747\n",
      "#Iter= 39\tTrain=0.665604\tTest=1.9192\n",
      "#Iter= 40\tTrain=0.665511\tTest=1.92097\n",
      "#Iter= 41\tTrain=0.665422\tTest=1.92277\n",
      "#Iter= 42\tTrain=0.665339\tTest=1.92452\n",
      "#Iter= 43\tTrain=0.66526\tTest=1.9262\n",
      "#Iter= 44\tTrain=0.665186\tTest=1.92791\n",
      "#Iter= 45\tTrain=0.665115\tTest=1.92964\n",
      "#Iter= 46\tTrain=0.665047\tTest=1.93135\n",
      "#Iter= 47\tTrain=0.664983\tTest=1.933\n",
      "#Iter= 48\tTrain=0.664922\tTest=1.93459\n",
      "#Iter= 49\tTrain=0.664863\tTest=1.93624\n",
      "#Iter= 50\tTrain=0.664807\tTest=1.93792\n",
      "#Iter= 51\tTrain=0.664753\tTest=1.93958\n",
      "#Iter= 52\tTrain=0.664702\tTest=1.94123\n",
      "#Iter= 53\tTrain=0.664652\tTest=1.94287\n",
      "#Iter= 54\tTrain=0.664604\tTest=1.9445\n",
      "#Iter= 55\tTrain=0.664559\tTest=1.9461\n",
      "#Iter= 56\tTrain=0.664515\tTest=1.94763\n",
      "#Iter= 57\tTrain=0.664472\tTest=1.94914\n",
      "#Iter= 58\tTrain=0.664431\tTest=1.9506\n",
      "#Iter= 59\tTrain=0.664392\tTest=1.95209\n",
      "#Iter= 60\tTrain=0.664353\tTest=1.95352\n",
      "#Iter= 61\tTrain=0.664316\tTest=1.95496\n",
      "#Iter= 62\tTrain=0.66428\tTest=1.95642\n",
      "#Iter= 63\tTrain=0.664245\tTest=1.95783\n",
      "#Iter= 64\tTrain=0.664212\tTest=1.95923\n",
      "#Iter= 65\tTrain=0.664179\tTest=1.96068\n",
      "#Iter= 66\tTrain=0.664147\tTest=1.96213\n",
      "#Iter= 67\tTrain=0.664116\tTest=1.96357\n",
      "#Iter= 68\tTrain=0.664086\tTest=1.965\n",
      "#Iter= 69\tTrain=0.664057\tTest=1.96637\n",
      "#Iter= 70\tTrain=0.664029\tTest=1.96773\n",
      "#Iter= 71\tTrain=0.664002\tTest=1.96909\n",
      "#Iter= 72\tTrain=0.663975\tTest=1.97046\n",
      "#Iter= 73\tTrain=0.663949\tTest=1.9718\n",
      "#Iter= 74\tTrain=0.663924\tTest=1.97311\n",
      "#Iter= 75\tTrain=0.663899\tTest=1.97441\n",
      "#Iter= 76\tTrain=0.663876\tTest=1.97569\n",
      "#Iter= 77\tTrain=0.663852\tTest=1.97696\n",
      "#Iter= 78\tTrain=0.66383\tTest=1.97822\n",
      "#Iter= 79\tTrain=0.663808\tTest=1.97946\n",
      "#Iter= 80\tTrain=0.663787\tTest=1.9807\n",
      "#Iter= 81\tTrain=0.663766\tTest=1.98194\n",
      "#Iter= 82\tTrain=0.663746\tTest=1.9831\n",
      "#Iter= 83\tTrain=0.663726\tTest=1.98426\n",
      "#Iter= 84\tTrain=0.663707\tTest=1.98538\n",
      "#Iter= 85\tTrain=0.663688\tTest=1.9865\n",
      "#Iter= 86\tTrain=0.66367\tTest=1.9876\n",
      "#Iter= 87\tTrain=0.663652\tTest=1.98869\n",
      "#Iter= 88\tTrain=0.663635\tTest=1.98978\n",
      "#Iter= 89\tTrain=0.663618\tTest=1.99086\n",
      "#Iter= 90\tTrain=0.663602\tTest=1.99195\n",
      "#Iter= 91\tTrain=0.663586\tTest=1.99304\n",
      "#Iter= 92\tTrain=0.66357\tTest=1.99412\n",
      "#Iter= 93\tTrain=0.663555\tTest=1.9952\n",
      "#Iter= 94\tTrain=0.66354\tTest=1.99629\n",
      "#Iter= 95\tTrain=0.663526\tTest=1.99737\n",
      "#Iter= 96\tTrain=0.663512\tTest=1.99845\n",
      "#Iter= 97\tTrain=0.663498\tTest=1.99952\n",
      "#Iter= 98\tTrain=0.663485\tTest=2.0006\n",
      "#Iter= 99\tTrain=0.663471\tTest=2.00166\n"
     ]
    }
   ],
   "source": [
    "!D:/libs/libfm/libfm-1.40.windows/libFM -task r -train train.libsvm -test test.libsvm -method als -dim '1,1,8' -out ./libfm_als.libsvm"
   ]
  },
  {
   "cell_type": "markdown",
   "metadata": {},
   "source": [
    "С SGD не получилось :("
   ]
  },
  {
   "cell_type": "markdown",
   "metadata": {},
   "source": [
    "Смотрим на предсказания"
   ]
  },
  {
   "cell_type": "code",
   "execution_count": 61,
   "metadata": {},
   "outputs": [],
   "source": [
    "mcmc_predictions = data1.iloc[test_indeces_frame].copy()\n",
    "mcmc_scores = load_svmlight_file('./libfm_mcmc.libsvm')[1]"
   ]
  },
  {
   "cell_type": "markdown",
   "metadata": {},
   "source": [
    "Но это еще не рейтинги, а всего лишь скоры. Давайте сначала отранжируем скоры внутри юзера и получим ранги. А потом по полученным рангам найдем рейтинг."
   ]
  },
  {
   "cell_type": "code",
   "execution_count": 81,
   "metadata": {},
   "outputs": [],
   "source": [
    "mcmc_predictions['score'] = mcmc_scores\n",
    "group_scores = mcmc_pred.groupby('userID').score\n",
    "mcmc_predictions['rank'] = group_scores.apply(lambda val: np.argsort(-val))"
   ]
  },
  {
   "cell_type": "markdown",
   "metadata": {},
   "source": [
    "То же самое для второго метода"
   ]
  },
  {
   "cell_type": "code",
   "execution_count": 69,
   "metadata": {},
   "outputs": [],
   "source": [
    "als_predictions = data1.iloc[test_indeces_frame].copy()\n",
    "als_scores = load_svmlight_file('./libfm_als.libsvm')[1]\n",
    "als_predictions['score'] = als_scores\n",
    "group_scores = als_pred.groupby('userID').score\n",
    "als_predictions['rank'] = group_scores.apply(lambda val: np.argsort(-val))"
   ]
  },
  {
   "cell_type": "markdown",
   "metadata": {},
   "source": [
    "В силу того, что данные снова в другом формате. Опять реализуем метрику MAP"
   ]
  },
  {
   "cell_type": "code",
   "execution_count": 76,
   "metadata": {},
   "outputs": [],
   "source": [
    "def AP(user_id, recs):\n",
    "    test = data1.iloc[test_indeces_frame].movieID[(data1.iloc[test_indeces_frame].userID == user_id) & (data1.iloc[test_indeces_frame].rating > 3)].values\n",
    "    rank = recs[recs.movieID.isin(test)]\n",
    "    if len(rank) > 0:\n",
    "        index = rel['rank'] + 1\n",
    "        return (1. / len(rank) * sum(1. / index))\n",
    "    return -1\n",
    "\n",
    "def MAP_(recommendations):\n",
    "    aps = [AP(user_id, group_df) for user_id, group_df in recommendations.groupby('userID')]\n",
    "    good_aps = aps[aps != -1]\n",
    "    return np.mean(good_aps)"
   ]
  },
  {
   "cell_type": "markdown",
   "metadata": {},
   "source": [
    "Посмотрим на метрики для двух методов. Для того, чтобы посчитать MAP нам достаточно только ранга. Для посчета RMSE в качестве рейтинга возьмем ранг, умноженный на 5 / 3."
   ]
  },
  {
   "cell_type": "code",
   "execution_count": 87,
   "metadata": {},
   "outputs": [
    {
     "name": "stdout",
     "output_type": "stream",
     "text": [
      "2.204951654633294 0.6297439467876922\n"
     ]
    }
   ],
   "source": [
    "print(RMSE_((mcmc_pred.rank + 1) * 5 / 3 , y_test), MAP_(mcmc_pred))"
   ]
  },
  {
   "cell_type": "code",
   "execution_count": 88,
   "metadata": {},
   "outputs": [
    {
     "name": "stdout",
     "output_type": "stream",
     "text": [
      "1.905452354453204 0.620708539304139\n"
     ]
    }
   ],
   "source": [
    "print(RMSE_((als_pred.rank + 1) * 5 / 3, y_test), MAP_(als_pred))"
   ]
  },
  {
   "cell_type": "markdown",
   "metadata": {},
   "source": [
    "Видим, что ALS работает чуть лучше. Но разница в MAP не очень то большая."
   ]
  },
  {
   "cell_type": "markdown",
   "metadata": {},
   "source": [
    "### Statistics features based approach\n",
    "\n",
    "В качестве иллюстрации что такое признаки-статистики или признаки-счётчики, рассмотрим категориальный признак \"жанр фильма\". Для каждого жанра мы можем посчитать некоторое числовое значение, например, среднее значение оценок фильмов этого жанра. Затем, если в матрице данных мы заменим значения жанров этого категориального признака на соответствующие значения средних рейтингов данных жанров, то получим новый числовой признак-счётчик.\n",
    "\n",
    "Здесь стоит обратить внимание на следующее:\n",
    "\n",
    "1. При создании таких счётчиков категориальных признаков по целевой переменной, важно не использовать оценки из настоящего и будущего. То есть, в нашем примере, при расчете среднего для конкретного объекта нельзя использовать как оценку текущего объекта, так и оценки, которые были поставлены позже. Иначе возникнет переобучение.\n",
    "2. В качестве счётчиков можно рассматривать и другие статистики: число встречаемости данного значения, медиану целевой переменной по объектам с тем же значением данного категориального признака и т.п.\n",
    "3. Подобные признаки-счётчики можно считать не только по одному категориальному признаку, как в примере с жанром фильма, но и и по набору из нескольких категориальных признаков, например, по паре (жанр, киноперсоны).\n",
    "4. Счётчики можно считать не только по целевой переменной, но и относительно других признаков.\n",
    "\n",
    "**Задание 7 (3 балла)**\n",
    "- Используя исходные данные, создайте выборку с набором признаков-счётчиков.\n",
    "- На полученной выборке с счетчиками постройте предсказания оценок, используя [xgboost](https://github.com/dmlc/xgboost) или [catboost](https://tech.yandex.com/catboost/doc/dg/concepts/about-docpage). Постарайтесь добиться качества сравнимого с качеством моделей из предыдущего пункта."
   ]
  },
  {
   "cell_type": "code",
   "execution_count": null,
   "metadata": {},
   "outputs": [],
   "source": []
  },
  {
   "cell_type": "markdown",
   "metadata": {},
   "source": [
    "- Какие признаки-счётчики оказались наиболее удачными? Почему? "
   ]
  },
  {
   "cell_type": "code",
   "execution_count": null,
   "metadata": {},
   "outputs": [],
   "source": []
  },
  {
   "cell_type": "markdown",
   "metadata": {},
   "source": [
    "**Задание 8 (1 балл)** Приведите сравнение качества всех моделей, использованных в работе, руководствуясь значениями описанных метрик. Какие из моделей оказались лучше других по каждой из метрик? Чем это можно объяснить?"
   ]
  },
  {
   "cell_type": "code",
   "execution_count": null,
   "metadata": {},
   "outputs": [],
   "source": []
  },
  {
   "cell_type": "markdown",
   "metadata": {},
   "source": [
    "## Адаптивное обучение\n",
    "\n",
    "В рамках следующего задания предлагается сравнить две стратегии расширения размеченной выборки для улучшения качества рекомендаций: случайную и основанную на разбросе предсказаний обученного алгоритма.\n",
    "\n",
    "**Задание 9 (2 балла)** Проведите следующий эксперимент:\n",
    "- Разбейте исходный датасет на обучающую выборку $A$ и тестовую выборку $B$ так, чтобы в обучающую выборку вошли хронологически первые 70% всех оценок пользователей, а в тестовую хронологически последние 30%.\n",
    "- Обучите один из рассмотренных выше алгоритмов рекомендаций на случайных 10% обучающей выборки $A$ (подвыборке $A_1$) и оцените качество этого алгоритма на тестовой выборке $B$. Затем проделайте то же самое ещё 9 раз: каждый раз расширяя выборку случайными объектами до 20% ($A_2$), 30% ($A_3$), ..., 100% ($A_{10} == A$) обучающей выборки, пока не заиспользуете все 70% от исходной выборки.\n",
    "- Проделайте эксперимент из предыдущего пункта, каждый раз расширяя выборку $A_i$ для обучения не случайными 10% объектами, а объектами из оставшейся части обучающей выборки $(A$ \\ $A_i)$ с наибольшим разбросом предсказаний модели, обученной на $A_i$. Разброс предсказаний модели считайте как разброс предсказаний моделей, обученных с помощью бутстрепа обучающих данных $A_i$. Таким образом всего вы должны обучить $N$ моделей (где $N$ — количество итераций бутстрепа) для каждого из 10 размеров обучающих выборок (10%, 20%, ..., 100%).\n",
    "- Проделайте предыдущие 2 пункта несколько раз, затем постройте и сравните между собой графики качества на тестовом датасете в зависимости от размера обучащей выборки в случае обеих стратегий.\n",
    "\n",
    "Важно отметить, что описанный выше эксперимент **учебный** и не совсем корректный, так как, при генерации обучающих выборок, мы пренебрегаем хронологией пользовательских оценок."
   ]
  },
  {
   "cell_type": "code",
   "execution_count": null,
   "metadata": {},
   "outputs": [],
   "source": []
  }
 ],
 "metadata": {
  "kernelspec": {
   "display_name": "Python 3",
   "language": "python",
   "name": "python3"
  },
  "language_info": {
   "codemirror_mode": {
    "name": "ipython",
    "version": 3
   },
   "file_extension": ".py",
   "mimetype": "text/x-python",
   "name": "python",
   "nbconvert_exporter": "python",
   "pygments_lexer": "ipython3",
   "version": "3.7.1"
  }
 },
 "nbformat": 4,
 "nbformat_minor": 2
}
